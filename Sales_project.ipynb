{
  "nbformat": 4,
  "nbformat_minor": 0,
  "metadata": {
    "colab": {
      "provenance": [],
      "mount_file_id": "1EHstRfaiWnwJyS97-6CYggSPuowUXbhU",
      "authorship_tag": "ABX9TyPkD0WlFytE/u20mF4tf0rC",
      "include_colab_link": true
    },
    "kernelspec": {
      "name": "python3",
      "display_name": "Python 3"
    },
    "language_info": {
      "name": "python"
    }
  },
  "cells": [
    {
      "cell_type": "markdown",
      "metadata": {
        "id": "view-in-github",
        "colab_type": "text"
      },
      "source": [
        "<a href=\"https://colab.research.google.com/github/analyticalaq/Sales-Value-Inc/blob/main/Sales_project.ipynb\" target=\"_parent\"><img src=\"https://colab.research.google.com/assets/colab-badge.svg\" alt=\"Open In Colab\"/></a>"
      ]
    },
    {
      "cell_type": "markdown",
      "source": [
        "**Sales project 1**"
      ],
      "metadata": {
        "id": "AEjvzuxXRyyA"
      }
    },
    {
      "cell_type": "code",
      "execution_count": null,
      "metadata": {
        "id": "_uQp825EQ5iW"
      },
      "outputs": [],
      "source": [
        "import pandas as pd"
      ]
    },
    {
      "cell_type": "code",
      "source": [
        "data=pd.read_csv('/content/drive/MyDrive/sales project data/transaction.csv')"
      ],
      "metadata": {
        "id": "OPwGEUfhRvYM"
      },
      "execution_count": null,
      "outputs": []
    },
    {
      "cell_type": "code",
      "source": [
        "data=pd.read_csv('/content/drive/MyDrive/sales project data/transaction.csv', sep=';')"
      ],
      "metadata": {
        "id": "IqwNkNqVRvar"
      },
      "execution_count": null,
      "outputs": []
    },
    {
      "cell_type": "code",
      "source": [
        "data.head()"
      ],
      "metadata": {
        "id": "AyGAi1PhRveF",
        "colab": {
          "base_uri": "https://localhost:8080/",
          "height": 461
        },
        "outputId": "5595a8bf-bc49-44ca-d7e1-a128183d8c44"
      },
      "execution_count": null,
      "outputs": [
        {
          "output_type": "execute_result",
          "data": {
            "text/plain": [
              "   UserId  TransactionId  Year Month  Day      Time  ItemCode  \\\n",
              "0  278166        6355745  2019   Feb    2  12:50:00    465549   \n",
              "1  337701        6283376  2018   Dec   26  09:06:00    482370   \n",
              "2  267099        6385599  2019   Feb   15  09:45:00    490728   \n",
              "3  380478        6044973  2018   Jun   22  07:14:00    459186   \n",
              "4      -1        6143225  2018   Sep   10  11:58:00   1733592   \n",
              "\n",
              "                     ItemDescription  NumberOfItemsPurchased  CostPerItem  \\\n",
              "0   FAMILY ALBUM WHITE PICTURE FRAME                       6        11.73   \n",
              "1              LONDON BUS COFFEE MUG                       3         3.52   \n",
              "2  SET 12 COLOUR PENCILS DOLLY GIRL                       72         0.90   \n",
              "3        UNION JACK FLAG LUGGAGE TAG                       3         1.73   \n",
              "4                WASHROOM METAL SIGN                       3         3.40   \n",
              "\n",
              "   SellingPricePerItem         Country  \\\n",
              "0                21.11  United Kingdom   \n",
              "1                 3.87  United Kingdom   \n",
              "2                 1.62          France   \n",
              "3                 1.90  United Kingdom   \n",
              "4                 5.78  United Kingdom   \n",
              "\n",
              "                                      ClientKeywords  \n",
              "0  ['Senior', 'Solo Entrepreneur', '2-5 Year Clie...  \n",
              "1   ['Middle Age', 'Corporation', '2-5 Year Client']  \n",
              "2   ['Middle Age', 'Corporation', '2-5 Year Client']  \n",
              "3     ['Middle Age', 'Small Business', 'New Client']  \n",
              "4  ['Middle Age', 'Solo Entrepreneur', '2-5 Year ...  "
            ],
            "text/html": [
              "\n",
              "  <div id=\"df-8ad25b1b-27b7-4477-9ffa-1947d70f3109\">\n",
              "    <div class=\"colab-df-container\">\n",
              "      <div>\n",
              "<style scoped>\n",
              "    .dataframe tbody tr th:only-of-type {\n",
              "        vertical-align: middle;\n",
              "    }\n",
              "\n",
              "    .dataframe tbody tr th {\n",
              "        vertical-align: top;\n",
              "    }\n",
              "\n",
              "    .dataframe thead th {\n",
              "        text-align: right;\n",
              "    }\n",
              "</style>\n",
              "<table border=\"1\" class=\"dataframe\">\n",
              "  <thead>\n",
              "    <tr style=\"text-align: right;\">\n",
              "      <th></th>\n",
              "      <th>UserId</th>\n",
              "      <th>TransactionId</th>\n",
              "      <th>Year</th>\n",
              "      <th>Month</th>\n",
              "      <th>Day</th>\n",
              "      <th>Time</th>\n",
              "      <th>ItemCode</th>\n",
              "      <th>ItemDescription</th>\n",
              "      <th>NumberOfItemsPurchased</th>\n",
              "      <th>CostPerItem</th>\n",
              "      <th>SellingPricePerItem</th>\n",
              "      <th>Country</th>\n",
              "      <th>ClientKeywords</th>\n",
              "    </tr>\n",
              "  </thead>\n",
              "  <tbody>\n",
              "    <tr>\n",
              "      <th>0</th>\n",
              "      <td>278166</td>\n",
              "      <td>6355745</td>\n",
              "      <td>2019</td>\n",
              "      <td>Feb</td>\n",
              "      <td>2</td>\n",
              "      <td>12:50:00</td>\n",
              "      <td>465549</td>\n",
              "      <td>FAMILY ALBUM WHITE PICTURE FRAME</td>\n",
              "      <td>6</td>\n",
              "      <td>11.73</td>\n",
              "      <td>21.11</td>\n",
              "      <td>United Kingdom</td>\n",
              "      <td>['Senior', 'Solo Entrepreneur', '2-5 Year Clie...</td>\n",
              "    </tr>\n",
              "    <tr>\n",
              "      <th>1</th>\n",
              "      <td>337701</td>\n",
              "      <td>6283376</td>\n",
              "      <td>2018</td>\n",
              "      <td>Dec</td>\n",
              "      <td>26</td>\n",
              "      <td>09:06:00</td>\n",
              "      <td>482370</td>\n",
              "      <td>LONDON BUS COFFEE MUG</td>\n",
              "      <td>3</td>\n",
              "      <td>3.52</td>\n",
              "      <td>3.87</td>\n",
              "      <td>United Kingdom</td>\n",
              "      <td>['Middle Age', 'Corporation', '2-5 Year Client']</td>\n",
              "    </tr>\n",
              "    <tr>\n",
              "      <th>2</th>\n",
              "      <td>267099</td>\n",
              "      <td>6385599</td>\n",
              "      <td>2019</td>\n",
              "      <td>Feb</td>\n",
              "      <td>15</td>\n",
              "      <td>09:45:00</td>\n",
              "      <td>490728</td>\n",
              "      <td>SET 12 COLOUR PENCILS DOLLY GIRL</td>\n",
              "      <td>72</td>\n",
              "      <td>0.90</td>\n",
              "      <td>1.62</td>\n",
              "      <td>France</td>\n",
              "      <td>['Middle Age', 'Corporation', '2-5 Year Client']</td>\n",
              "    </tr>\n",
              "    <tr>\n",
              "      <th>3</th>\n",
              "      <td>380478</td>\n",
              "      <td>6044973</td>\n",
              "      <td>2018</td>\n",
              "      <td>Jun</td>\n",
              "      <td>22</td>\n",
              "      <td>07:14:00</td>\n",
              "      <td>459186</td>\n",
              "      <td>UNION JACK FLAG LUGGAGE TAG</td>\n",
              "      <td>3</td>\n",
              "      <td>1.73</td>\n",
              "      <td>1.90</td>\n",
              "      <td>United Kingdom</td>\n",
              "      <td>['Middle Age', 'Small Business', 'New Client']</td>\n",
              "    </tr>\n",
              "    <tr>\n",
              "      <th>4</th>\n",
              "      <td>-1</td>\n",
              "      <td>6143225</td>\n",
              "      <td>2018</td>\n",
              "      <td>Sep</td>\n",
              "      <td>10</td>\n",
              "      <td>11:58:00</td>\n",
              "      <td>1733592</td>\n",
              "      <td>WASHROOM METAL SIGN</td>\n",
              "      <td>3</td>\n",
              "      <td>3.40</td>\n",
              "      <td>5.78</td>\n",
              "      <td>United Kingdom</td>\n",
              "      <td>['Middle Age', 'Solo Entrepreneur', '2-5 Year ...</td>\n",
              "    </tr>\n",
              "  </tbody>\n",
              "</table>\n",
              "</div>\n",
              "      <button class=\"colab-df-convert\" onclick=\"convertToInteractive('df-8ad25b1b-27b7-4477-9ffa-1947d70f3109')\"\n",
              "              title=\"Convert this dataframe to an interactive table.\"\n",
              "              style=\"display:none;\">\n",
              "        \n",
              "  <svg xmlns=\"http://www.w3.org/2000/svg\" height=\"24px\"viewBox=\"0 0 24 24\"\n",
              "       width=\"24px\">\n",
              "    <path d=\"M0 0h24v24H0V0z\" fill=\"none\"/>\n",
              "    <path d=\"M18.56 5.44l.94 2.06.94-2.06 2.06-.94-2.06-.94-.94-2.06-.94 2.06-2.06.94zm-11 1L8.5 8.5l.94-2.06 2.06-.94-2.06-.94L8.5 2.5l-.94 2.06-2.06.94zm10 10l.94 2.06.94-2.06 2.06-.94-2.06-.94-.94-2.06-.94 2.06-2.06.94z\"/><path d=\"M17.41 7.96l-1.37-1.37c-.4-.4-.92-.59-1.43-.59-.52 0-1.04.2-1.43.59L10.3 9.45l-7.72 7.72c-.78.78-.78 2.05 0 2.83L4 21.41c.39.39.9.59 1.41.59.51 0 1.02-.2 1.41-.59l7.78-7.78 2.81-2.81c.8-.78.8-2.07 0-2.86zM5.41 20L4 18.59l7.72-7.72 1.47 1.35L5.41 20z\"/>\n",
              "  </svg>\n",
              "      </button>\n",
              "      \n",
              "  <style>\n",
              "    .colab-df-container {\n",
              "      display:flex;\n",
              "      flex-wrap:wrap;\n",
              "      gap: 12px;\n",
              "    }\n",
              "\n",
              "    .colab-df-convert {\n",
              "      background-color: #E8F0FE;\n",
              "      border: none;\n",
              "      border-radius: 50%;\n",
              "      cursor: pointer;\n",
              "      display: none;\n",
              "      fill: #1967D2;\n",
              "      height: 32px;\n",
              "      padding: 0 0 0 0;\n",
              "      width: 32px;\n",
              "    }\n",
              "\n",
              "    .colab-df-convert:hover {\n",
              "      background-color: #E2EBFA;\n",
              "      box-shadow: 0px 1px 2px rgba(60, 64, 67, 0.3), 0px 1px 3px 1px rgba(60, 64, 67, 0.15);\n",
              "      fill: #174EA6;\n",
              "    }\n",
              "\n",
              "    [theme=dark] .colab-df-convert {\n",
              "      background-color: #3B4455;\n",
              "      fill: #D2E3FC;\n",
              "    }\n",
              "\n",
              "    [theme=dark] .colab-df-convert:hover {\n",
              "      background-color: #434B5C;\n",
              "      box-shadow: 0px 1px 3px 1px rgba(0, 0, 0, 0.15);\n",
              "      filter: drop-shadow(0px 1px 2px rgba(0, 0, 0, 0.3));\n",
              "      fill: #FFFFFF;\n",
              "    }\n",
              "  </style>\n",
              "\n",
              "      <script>\n",
              "        const buttonEl =\n",
              "          document.querySelector('#df-8ad25b1b-27b7-4477-9ffa-1947d70f3109 button.colab-df-convert');\n",
              "        buttonEl.style.display =\n",
              "          google.colab.kernel.accessAllowed ? 'block' : 'none';\n",
              "\n",
              "        async function convertToInteractive(key) {\n",
              "          const element = document.querySelector('#df-8ad25b1b-27b7-4477-9ffa-1947d70f3109');\n",
              "          const dataTable =\n",
              "            await google.colab.kernel.invokeFunction('convertToInteractive',\n",
              "                                                     [key], {});\n",
              "          if (!dataTable) return;\n",
              "\n",
              "          const docLinkHtml = 'Like what you see? Visit the ' +\n",
              "            '<a target=\"_blank\" href=https://colab.research.google.com/notebooks/data_table.ipynb>data table notebook</a>'\n",
              "            + ' to learn more about interactive tables.';\n",
              "          element.innerHTML = '';\n",
              "          dataTable['output_type'] = 'display_data';\n",
              "          await google.colab.output.renderOutput(dataTable, element);\n",
              "          const docLink = document.createElement('div');\n",
              "          docLink.innerHTML = docLinkHtml;\n",
              "          element.appendChild(docLink);\n",
              "        }\n",
              "      </script>\n",
              "    </div>\n",
              "  </div>\n",
              "  "
            ]
          },
          "metadata": {},
          "execution_count": 86
        }
      ]
    },
    {
      "cell_type": "markdown",
      "source": [
        "**Summery of the data**"
      ],
      "metadata": {
        "id": "NuN_lXwokfX8"
      }
    },
    {
      "cell_type": "code",
      "source": [
        "data.info()"
      ],
      "metadata": {
        "id": "WDh7_gt9Rvhc",
        "colab": {
          "base_uri": "https://localhost:8080/"
        },
        "outputId": "c3c50d90-965a-411e-fed2-99f453b44a5e"
      },
      "execution_count": null,
      "outputs": [
        {
          "output_type": "stream",
          "name": "stdout",
          "text": [
            "<class 'pandas.core.frame.DataFrame'>\n",
            "RangeIndex: 1047588 entries, 0 to 1047587\n",
            "Data columns (total 13 columns):\n",
            " #   Column                  Non-Null Count    Dtype  \n",
            "---  ------                  --------------    -----  \n",
            " 0   UserId                  1047588 non-null  int64  \n",
            " 1   TransactionId           1047588 non-null  int64  \n",
            " 2   Year                    1047588 non-null  int64  \n",
            " 3   Month                   1047588 non-null  object \n",
            " 4   Day                     1047588 non-null  int64  \n",
            " 5   Time                    1047588 non-null  object \n",
            " 6   ItemCode                1047588 non-null  int64  \n",
            " 7   ItemDescription         1044797 non-null  object \n",
            " 8   NumberOfItemsPurchased  1047588 non-null  int64  \n",
            " 9   CostPerItem             1047588 non-null  float64\n",
            " 10  SellingPricePerItem     1047588 non-null  float64\n",
            " 11  Country                 1047588 non-null  object \n",
            " 12  ClientKeywords          1047588 non-null  object \n",
            "dtypes: float64(2), int64(6), object(5)\n",
            "memory usage: 103.9+ MB\n"
          ]
        }
      ]
    },
    {
      "cell_type": "markdown",
      "source": [
        "**Mathematical operations**"
      ],
      "metadata": {
        "id": "MQbqddtupzYV"
      }
    },
    {
      "cell_type": "code",
      "source": [
        "CostPerItem\t= 11.73\t\n",
        "SellingPricePerItem = 21.11\n",
        "NumberOfItemsPurchased\t= 6\n"
      ],
      "metadata": {
        "id": "TFm_ovXlRvki"
      },
      "execution_count": null,
      "outputs": []
    },
    {
      "cell_type": "markdown",
      "source": [
        "**Mathematical operations perform on Tableau**"
      ],
      "metadata": {
        "id": "16ys2NMfqX9n"
      }
    },
    {
      "cell_type": "code",
      "source": [
        "profitperItem = SellingPricePerItem - CostPerItem"
      ],
      "metadata": {
        "id": "6BU_NhoyRvnT"
      },
      "execution_count": null,
      "outputs": []
    },
    {
      "cell_type": "code",
      "source": [
        "ProfitPerTransaction=profitperItem*NumberOfItemsPurchased"
      ],
      "metadata": {
        "id": "85hAvEbLRvqA"
      },
      "execution_count": null,
      "outputs": []
    },
    {
      "cell_type": "code",
      "source": [
        "CostPerTransction= NumberOfItemsPurchased * CostPerItem"
      ],
      "metadata": {
        "id": "qfvu527DRvsT"
      },
      "execution_count": null,
      "outputs": []
    },
    {
      "cell_type": "code",
      "source": [
        "SellingPricePerTranction =SellingPricePerItem * NumberOfItemsPurchased"
      ],
      "metadata": {
        "id": "_hUchcOoRvvJ"
      },
      "execution_count": null,
      "outputs": []
    },
    {
      "cell_type": "code",
      "source": [
        "CostPerItem=data['CostPerItem']"
      ],
      "metadata": {
        "id": "_oJ_roB8tzgg"
      },
      "execution_count": null,
      "outputs": []
    },
    {
      "cell_type": "code",
      "source": [
        "CostPerItem.head()"
      ],
      "metadata": {
        "colab": {
          "base_uri": "https://localhost:8080/"
        },
        "id": "i58l11YJtzqv",
        "outputId": "acc839e0-9a2e-409e-c083-8275727a8176"
      },
      "execution_count": null,
      "outputs": [
        {
          "output_type": "execute_result",
          "data": {
            "text/plain": [
              "0    11.73\n",
              "1     3.52\n",
              "2     0.90\n",
              "3     1.73\n",
              "4     3.40\n",
              "Name: CostPerItem, dtype: float64"
            ]
          },
          "metadata": {},
          "execution_count": 94
        }
      ]
    },
    {
      "cell_type": "code",
      "source": [
        "NumberOfItemsPurchased = data['NumberOfItemsPurchased']"
      ],
      "metadata": {
        "id": "lK2VJwUUtztK"
      },
      "execution_count": null,
      "outputs": []
    },
    {
      "cell_type": "code",
      "source": [
        "NumberOfItemsPurchased.head()"
      ],
      "metadata": {
        "colab": {
          "base_uri": "https://localhost:8080/"
        },
        "id": "ZLolo0JOtzv7",
        "outputId": "469ec0d9-1aaa-425b-dc05-6d186ae79966"
      },
      "execution_count": null,
      "outputs": [
        {
          "output_type": "execute_result",
          "data": {
            "text/plain": [
              "0     6\n",
              "1     3\n",
              "2    72\n",
              "3     3\n",
              "4     3\n",
              "Name: NumberOfItemsPurchased, dtype: int64"
            ]
          },
          "metadata": {},
          "execution_count": 96
        }
      ]
    },
    {
      "cell_type": "markdown",
      "source": [
        "**Adding Column in excel sheet**"
      ],
      "metadata": {
        "id": "Oka_GyAwybRL"
      }
    },
    {
      "cell_type": "code",
      "source": [
        "data['CostPerTransction'] = CostPerTransction"
      ],
      "metadata": {
        "id": "mXwTWLLytzyp"
      },
      "execution_count": null,
      "outputs": []
    },
    {
      "cell_type": "code",
      "source": [
        "data['CostPerTransction']= data['NumberOfItemsPurchased'] * data['CostPerItem']"
      ],
      "metadata": {
        "id": "jdweCIExtz03"
      },
      "execution_count": null,
      "outputs": []
    },
    {
      "cell_type": "code",
      "source": [
        "data.head()"
      ],
      "metadata": {
        "colab": {
          "base_uri": "https://localhost:8080/",
          "height": 461
        },
        "id": "B4xxjqmNtz2_",
        "outputId": "c01348ce-1452-4689-f6fc-bb2d9b642a29"
      },
      "execution_count": null,
      "outputs": [
        {
          "output_type": "execute_result",
          "data": {
            "text/plain": [
              "   UserId  TransactionId  Year Month  Day      Time  ItemCode  \\\n",
              "0  278166        6355745  2019   Feb    2  12:50:00    465549   \n",
              "1  337701        6283376  2018   Dec   26  09:06:00    482370   \n",
              "2  267099        6385599  2019   Feb   15  09:45:00    490728   \n",
              "3  380478        6044973  2018   Jun   22  07:14:00    459186   \n",
              "4      -1        6143225  2018   Sep   10  11:58:00   1733592   \n",
              "\n",
              "                     ItemDescription  NumberOfItemsPurchased  CostPerItem  \\\n",
              "0   FAMILY ALBUM WHITE PICTURE FRAME                       6        11.73   \n",
              "1              LONDON BUS COFFEE MUG                       3         3.52   \n",
              "2  SET 12 COLOUR PENCILS DOLLY GIRL                       72         0.90   \n",
              "3        UNION JACK FLAG LUGGAGE TAG                       3         1.73   \n",
              "4                WASHROOM METAL SIGN                       3         3.40   \n",
              "\n",
              "   SellingPricePerItem         Country  \\\n",
              "0                21.11  United Kingdom   \n",
              "1                 3.87  United Kingdom   \n",
              "2                 1.62          France   \n",
              "3                 1.90  United Kingdom   \n",
              "4                 5.78  United Kingdom   \n",
              "\n",
              "                                      ClientKeywords  CostPerTransction  \n",
              "0  ['Senior', 'Solo Entrepreneur', '2-5 Year Clie...              70.38  \n",
              "1   ['Middle Age', 'Corporation', '2-5 Year Client']              10.56  \n",
              "2   ['Middle Age', 'Corporation', '2-5 Year Client']              64.80  \n",
              "3     ['Middle Age', 'Small Business', 'New Client']               5.19  \n",
              "4  ['Middle Age', 'Solo Entrepreneur', '2-5 Year ...              10.20  "
            ],
            "text/html": [
              "\n",
              "  <div id=\"df-afb2449d-ca20-4511-b961-2f879759774f\">\n",
              "    <div class=\"colab-df-container\">\n",
              "      <div>\n",
              "<style scoped>\n",
              "    .dataframe tbody tr th:only-of-type {\n",
              "        vertical-align: middle;\n",
              "    }\n",
              "\n",
              "    .dataframe tbody tr th {\n",
              "        vertical-align: top;\n",
              "    }\n",
              "\n",
              "    .dataframe thead th {\n",
              "        text-align: right;\n",
              "    }\n",
              "</style>\n",
              "<table border=\"1\" class=\"dataframe\">\n",
              "  <thead>\n",
              "    <tr style=\"text-align: right;\">\n",
              "      <th></th>\n",
              "      <th>UserId</th>\n",
              "      <th>TransactionId</th>\n",
              "      <th>Year</th>\n",
              "      <th>Month</th>\n",
              "      <th>Day</th>\n",
              "      <th>Time</th>\n",
              "      <th>ItemCode</th>\n",
              "      <th>ItemDescription</th>\n",
              "      <th>NumberOfItemsPurchased</th>\n",
              "      <th>CostPerItem</th>\n",
              "      <th>SellingPricePerItem</th>\n",
              "      <th>Country</th>\n",
              "      <th>ClientKeywords</th>\n",
              "      <th>CostPerTransction</th>\n",
              "    </tr>\n",
              "  </thead>\n",
              "  <tbody>\n",
              "    <tr>\n",
              "      <th>0</th>\n",
              "      <td>278166</td>\n",
              "      <td>6355745</td>\n",
              "      <td>2019</td>\n",
              "      <td>Feb</td>\n",
              "      <td>2</td>\n",
              "      <td>12:50:00</td>\n",
              "      <td>465549</td>\n",
              "      <td>FAMILY ALBUM WHITE PICTURE FRAME</td>\n",
              "      <td>6</td>\n",
              "      <td>11.73</td>\n",
              "      <td>21.11</td>\n",
              "      <td>United Kingdom</td>\n",
              "      <td>['Senior', 'Solo Entrepreneur', '2-5 Year Clie...</td>\n",
              "      <td>70.38</td>\n",
              "    </tr>\n",
              "    <tr>\n",
              "      <th>1</th>\n",
              "      <td>337701</td>\n",
              "      <td>6283376</td>\n",
              "      <td>2018</td>\n",
              "      <td>Dec</td>\n",
              "      <td>26</td>\n",
              "      <td>09:06:00</td>\n",
              "      <td>482370</td>\n",
              "      <td>LONDON BUS COFFEE MUG</td>\n",
              "      <td>3</td>\n",
              "      <td>3.52</td>\n",
              "      <td>3.87</td>\n",
              "      <td>United Kingdom</td>\n",
              "      <td>['Middle Age', 'Corporation', '2-5 Year Client']</td>\n",
              "      <td>10.56</td>\n",
              "    </tr>\n",
              "    <tr>\n",
              "      <th>2</th>\n",
              "      <td>267099</td>\n",
              "      <td>6385599</td>\n",
              "      <td>2019</td>\n",
              "      <td>Feb</td>\n",
              "      <td>15</td>\n",
              "      <td>09:45:00</td>\n",
              "      <td>490728</td>\n",
              "      <td>SET 12 COLOUR PENCILS DOLLY GIRL</td>\n",
              "      <td>72</td>\n",
              "      <td>0.90</td>\n",
              "      <td>1.62</td>\n",
              "      <td>France</td>\n",
              "      <td>['Middle Age', 'Corporation', '2-5 Year Client']</td>\n",
              "      <td>64.80</td>\n",
              "    </tr>\n",
              "    <tr>\n",
              "      <th>3</th>\n",
              "      <td>380478</td>\n",
              "      <td>6044973</td>\n",
              "      <td>2018</td>\n",
              "      <td>Jun</td>\n",
              "      <td>22</td>\n",
              "      <td>07:14:00</td>\n",
              "      <td>459186</td>\n",
              "      <td>UNION JACK FLAG LUGGAGE TAG</td>\n",
              "      <td>3</td>\n",
              "      <td>1.73</td>\n",
              "      <td>1.90</td>\n",
              "      <td>United Kingdom</td>\n",
              "      <td>['Middle Age', 'Small Business', 'New Client']</td>\n",
              "      <td>5.19</td>\n",
              "    </tr>\n",
              "    <tr>\n",
              "      <th>4</th>\n",
              "      <td>-1</td>\n",
              "      <td>6143225</td>\n",
              "      <td>2018</td>\n",
              "      <td>Sep</td>\n",
              "      <td>10</td>\n",
              "      <td>11:58:00</td>\n",
              "      <td>1733592</td>\n",
              "      <td>WASHROOM METAL SIGN</td>\n",
              "      <td>3</td>\n",
              "      <td>3.40</td>\n",
              "      <td>5.78</td>\n",
              "      <td>United Kingdom</td>\n",
              "      <td>['Middle Age', 'Solo Entrepreneur', '2-5 Year ...</td>\n",
              "      <td>10.20</td>\n",
              "    </tr>\n",
              "  </tbody>\n",
              "</table>\n",
              "</div>\n",
              "      <button class=\"colab-df-convert\" onclick=\"convertToInteractive('df-afb2449d-ca20-4511-b961-2f879759774f')\"\n",
              "              title=\"Convert this dataframe to an interactive table.\"\n",
              "              style=\"display:none;\">\n",
              "        \n",
              "  <svg xmlns=\"http://www.w3.org/2000/svg\" height=\"24px\"viewBox=\"0 0 24 24\"\n",
              "       width=\"24px\">\n",
              "    <path d=\"M0 0h24v24H0V0z\" fill=\"none\"/>\n",
              "    <path d=\"M18.56 5.44l.94 2.06.94-2.06 2.06-.94-2.06-.94-.94-2.06-.94 2.06-2.06.94zm-11 1L8.5 8.5l.94-2.06 2.06-.94-2.06-.94L8.5 2.5l-.94 2.06-2.06.94zm10 10l.94 2.06.94-2.06 2.06-.94-2.06-.94-.94-2.06-.94 2.06-2.06.94z\"/><path d=\"M17.41 7.96l-1.37-1.37c-.4-.4-.92-.59-1.43-.59-.52 0-1.04.2-1.43.59L10.3 9.45l-7.72 7.72c-.78.78-.78 2.05 0 2.83L4 21.41c.39.39.9.59 1.41.59.51 0 1.02-.2 1.41-.59l7.78-7.78 2.81-2.81c.8-.78.8-2.07 0-2.86zM5.41 20L4 18.59l7.72-7.72 1.47 1.35L5.41 20z\"/>\n",
              "  </svg>\n",
              "      </button>\n",
              "      \n",
              "  <style>\n",
              "    .colab-df-container {\n",
              "      display:flex;\n",
              "      flex-wrap:wrap;\n",
              "      gap: 12px;\n",
              "    }\n",
              "\n",
              "    .colab-df-convert {\n",
              "      background-color: #E8F0FE;\n",
              "      border: none;\n",
              "      border-radius: 50%;\n",
              "      cursor: pointer;\n",
              "      display: none;\n",
              "      fill: #1967D2;\n",
              "      height: 32px;\n",
              "      padding: 0 0 0 0;\n",
              "      width: 32px;\n",
              "    }\n",
              "\n",
              "    .colab-df-convert:hover {\n",
              "      background-color: #E2EBFA;\n",
              "      box-shadow: 0px 1px 2px rgba(60, 64, 67, 0.3), 0px 1px 3px 1px rgba(60, 64, 67, 0.15);\n",
              "      fill: #174EA6;\n",
              "    }\n",
              "\n",
              "    [theme=dark] .colab-df-convert {\n",
              "      background-color: #3B4455;\n",
              "      fill: #D2E3FC;\n",
              "    }\n",
              "\n",
              "    [theme=dark] .colab-df-convert:hover {\n",
              "      background-color: #434B5C;\n",
              "      box-shadow: 0px 1px 3px 1px rgba(0, 0, 0, 0.15);\n",
              "      filter: drop-shadow(0px 1px 2px rgba(0, 0, 0, 0.3));\n",
              "      fill: #FFFFFF;\n",
              "    }\n",
              "  </style>\n",
              "\n",
              "      <script>\n",
              "        const buttonEl =\n",
              "          document.querySelector('#df-afb2449d-ca20-4511-b961-2f879759774f button.colab-df-convert');\n",
              "        buttonEl.style.display =\n",
              "          google.colab.kernel.accessAllowed ? 'block' : 'none';\n",
              "\n",
              "        async function convertToInteractive(key) {\n",
              "          const element = document.querySelector('#df-afb2449d-ca20-4511-b961-2f879759774f');\n",
              "          const dataTable =\n",
              "            await google.colab.kernel.invokeFunction('convertToInteractive',\n",
              "                                                     [key], {});\n",
              "          if (!dataTable) return;\n",
              "\n",
              "          const docLinkHtml = 'Like what you see? Visit the ' +\n",
              "            '<a target=\"_blank\" href=https://colab.research.google.com/notebooks/data_table.ipynb>data table notebook</a>'\n",
              "            + ' to learn more about interactive tables.';\n",
              "          element.innerHTML = '';\n",
              "          dataTable['output_type'] = 'display_data';\n",
              "          await google.colab.output.renderOutput(dataTable, element);\n",
              "          const docLink = document.createElement('div');\n",
              "          docLink.innerHTML = docLinkHtml;\n",
              "          element.appendChild(docLink);\n",
              "        }\n",
              "      </script>\n",
              "    </div>\n",
              "  </div>\n",
              "  "
            ]
          },
          "metadata": {},
          "execution_count": 99
        }
      ]
    },
    {
      "cell_type": "markdown",
      "source": [
        "**Sales Per transction**"
      ],
      "metadata": {
        "id": "_sZJzFW30LBg"
      }
    },
    {
      "cell_type": "code",
      "source": [
        "data['SalesPertransctions']=data['SellingPricePerItem'] * data['NumberOfItemsPurchased']"
      ],
      "metadata": {
        "id": "hFQ5SrKHtz5H"
      },
      "execution_count": null,
      "outputs": []
    },
    {
      "cell_type": "markdown",
      "source": [
        "**Profit calculations Sales - Cost**"
      ],
      "metadata": {
        "id": "BK6RhVgs1V9K"
      }
    },
    {
      "cell_type": "code",
      "source": [
        "data['ProfitPerTransaction']=data['SalesPertransctions'] - data['CostPerTransction']"
      ],
      "metadata": {
        "id": "LcLukObFtz7h"
      },
      "execution_count": null,
      "outputs": []
    },
    {
      "cell_type": "markdown",
      "source": [
        "**Markup  (Sales - Cost)/Cost**"
      ],
      "metadata": {
        "id": "iAGVrjVo3JfZ"
      }
    },
    {
      "cell_type": "code",
      "source": [
        "data['Markup']=(data['SalesPertransctions'] - data['CostPerTransction'])/ data['CostPerTransction']"
      ],
      "metadata": {
        "id": "go_qFv8Etz9K"
      },
      "execution_count": null,
      "outputs": []
    },
    {
      "cell_type": "markdown",
      "source": [
        "**ROUND Function**"
      ],
      "metadata": {
        "id": "8STEsgxPZ4nA"
      }
    },
    {
      "cell_type": "code",
      "source": [
        "data['Markup']=round(data['Markup'],2)"
      ],
      "metadata": {
        "id": "VHSFaepbtz_i"
      },
      "execution_count": null,
      "outputs": []
    },
    {
      "cell_type": "markdown",
      "source": [
        "**Convet data types**"
      ],
      "metadata": {
        "id": "NEvpQF1DeRsi"
      }
    },
    {
      "cell_type": "code",
      "source": [
        "day=data['Day'].astype(str)"
      ],
      "metadata": {
        "id": "3b4PweqRt0Dk"
      },
      "execution_count": null,
      "outputs": []
    },
    {
      "cell_type": "code",
      "source": [
        "year=data['Year'].astype(str)"
      ],
      "metadata": {
        "id": "bySJESetel7U"
      },
      "execution_count": null,
      "outputs": []
    },
    {
      "cell_type": "markdown",
      "source": [
        "**Combining data fields**"
      ],
      "metadata": {
        "id": "SUQwjNOYbbZs"
      }
    },
    {
      "cell_type": "code",
      "source": [
        "date=day+'-'+data['Month']+'-'+year"
      ],
      "metadata": {
        "id": "-PS2JKV7bnvE"
      },
      "execution_count": null,
      "outputs": []
    },
    {
      "cell_type": "code",
      "source": [
        "data['date']=date"
      ],
      "metadata": {
        "id": "LmDiyeuxbnxI"
      },
      "execution_count": null,
      "outputs": []
    },
    {
      "cell_type": "markdown",
      "source": [
        "**using  iloc for view specific row/columns**"
      ],
      "metadata": {
        "id": "Hvb8t2GAhJjm"
      }
    },
    {
      "cell_type": "code",
      "source": [
        "data.iloc[0]"
      ],
      "metadata": {
        "colab": {
          "base_uri": "https://localhost:8080/"
        },
        "id": "8YFjOFR8bnzg",
        "outputId": "9a63f868-592b-4b2a-f739-162f21039248"
      },
      "execution_count": null,
      "outputs": [
        {
          "output_type": "execute_result",
          "data": {
            "text/plain": [
              "UserId                                                               278166\n",
              "TransactionId                                                       6355745\n",
              "Year                                                                   2019\n",
              "Month                                                                   Feb\n",
              "Day                                                                       2\n",
              "Time                                                               12:50:00\n",
              "ItemCode                                                             465549\n",
              "ItemDescription                            FAMILY ALBUM WHITE PICTURE FRAME\n",
              "NumberOfItemsPurchased                                                    6\n",
              "CostPerItem                                                           11.73\n",
              "SellingPricePerItem                                                   21.11\n",
              "Country                                                      United Kingdom\n",
              "ClientKeywords            ['Senior', 'Solo Entrepreneur', '2-5 Year Clie...\n",
              "CostPerTransction                                                     70.38\n",
              "SalesPertransctions                                                  126.66\n",
              "ProfitPerTransaction                                                  56.28\n",
              "Markup                                                                  0.8\n",
              "date                                                             2-Feb-2019\n",
              "Name: 0, dtype: object"
            ]
          },
          "metadata": {},
          "execution_count": 108
        }
      ]
    },
    {
      "cell_type": "code",
      "source": [
        "data.iloc[0:5]"
      ],
      "metadata": {
        "colab": {
          "base_uri": "https://localhost:8080/",
          "height": 461
        },
        "id": "uE5o5qiLbn2b",
        "outputId": "dbe90fc9-7aaf-4bac-81eb-e1fc8a96b804"
      },
      "execution_count": null,
      "outputs": [
        {
          "output_type": "execute_result",
          "data": {
            "text/plain": [
              "   UserId  TransactionId  Year Month  Day      Time  ItemCode  \\\n",
              "0  278166        6355745  2019   Feb    2  12:50:00    465549   \n",
              "1  337701        6283376  2018   Dec   26  09:06:00    482370   \n",
              "2  267099        6385599  2019   Feb   15  09:45:00    490728   \n",
              "3  380478        6044973  2018   Jun   22  07:14:00    459186   \n",
              "4      -1        6143225  2018   Sep   10  11:58:00   1733592   \n",
              "\n",
              "                     ItemDescription  NumberOfItemsPurchased  CostPerItem  \\\n",
              "0   FAMILY ALBUM WHITE PICTURE FRAME                       6        11.73   \n",
              "1              LONDON BUS COFFEE MUG                       3         3.52   \n",
              "2  SET 12 COLOUR PENCILS DOLLY GIRL                       72         0.90   \n",
              "3        UNION JACK FLAG LUGGAGE TAG                       3         1.73   \n",
              "4                WASHROOM METAL SIGN                       3         3.40   \n",
              "\n",
              "   SellingPricePerItem         Country  \\\n",
              "0                21.11  United Kingdom   \n",
              "1                 3.87  United Kingdom   \n",
              "2                 1.62          France   \n",
              "3                 1.90  United Kingdom   \n",
              "4                 5.78  United Kingdom   \n",
              "\n",
              "                                      ClientKeywords  CostPerTransction  \\\n",
              "0  ['Senior', 'Solo Entrepreneur', '2-5 Year Clie...              70.38   \n",
              "1   ['Middle Age', 'Corporation', '2-5 Year Client']              10.56   \n",
              "2   ['Middle Age', 'Corporation', '2-5 Year Client']              64.80   \n",
              "3     ['Middle Age', 'Small Business', 'New Client']               5.19   \n",
              "4  ['Middle Age', 'Solo Entrepreneur', '2-5 Year ...              10.20   \n",
              "\n",
              "   SalesPertransctions  ProfitPerTransaction  Markup         date  \n",
              "0               126.66                 56.28     0.8   2-Feb-2019  \n",
              "1                11.61                  1.05     0.1  26-Dec-2018  \n",
              "2               116.64                 51.84     0.8  15-Feb-2019  \n",
              "3                 5.70                  0.51     0.1  22-Jun-2018  \n",
              "4                17.34                  7.14     0.7  10-Sep-2018  "
            ],
            "text/html": [
              "\n",
              "  <div id=\"df-1b0024e3-eb05-4207-b4c5-93dfe0b71147\">\n",
              "    <div class=\"colab-df-container\">\n",
              "      <div>\n",
              "<style scoped>\n",
              "    .dataframe tbody tr th:only-of-type {\n",
              "        vertical-align: middle;\n",
              "    }\n",
              "\n",
              "    .dataframe tbody tr th {\n",
              "        vertical-align: top;\n",
              "    }\n",
              "\n",
              "    .dataframe thead th {\n",
              "        text-align: right;\n",
              "    }\n",
              "</style>\n",
              "<table border=\"1\" class=\"dataframe\">\n",
              "  <thead>\n",
              "    <tr style=\"text-align: right;\">\n",
              "      <th></th>\n",
              "      <th>UserId</th>\n",
              "      <th>TransactionId</th>\n",
              "      <th>Year</th>\n",
              "      <th>Month</th>\n",
              "      <th>Day</th>\n",
              "      <th>Time</th>\n",
              "      <th>ItemCode</th>\n",
              "      <th>ItemDescription</th>\n",
              "      <th>NumberOfItemsPurchased</th>\n",
              "      <th>CostPerItem</th>\n",
              "      <th>SellingPricePerItem</th>\n",
              "      <th>Country</th>\n",
              "      <th>ClientKeywords</th>\n",
              "      <th>CostPerTransction</th>\n",
              "      <th>SalesPertransctions</th>\n",
              "      <th>ProfitPerTransaction</th>\n",
              "      <th>Markup</th>\n",
              "      <th>date</th>\n",
              "    </tr>\n",
              "  </thead>\n",
              "  <tbody>\n",
              "    <tr>\n",
              "      <th>0</th>\n",
              "      <td>278166</td>\n",
              "      <td>6355745</td>\n",
              "      <td>2019</td>\n",
              "      <td>Feb</td>\n",
              "      <td>2</td>\n",
              "      <td>12:50:00</td>\n",
              "      <td>465549</td>\n",
              "      <td>FAMILY ALBUM WHITE PICTURE FRAME</td>\n",
              "      <td>6</td>\n",
              "      <td>11.73</td>\n",
              "      <td>21.11</td>\n",
              "      <td>United Kingdom</td>\n",
              "      <td>['Senior', 'Solo Entrepreneur', '2-5 Year Clie...</td>\n",
              "      <td>70.38</td>\n",
              "      <td>126.66</td>\n",
              "      <td>56.28</td>\n",
              "      <td>0.8</td>\n",
              "      <td>2-Feb-2019</td>\n",
              "    </tr>\n",
              "    <tr>\n",
              "      <th>1</th>\n",
              "      <td>337701</td>\n",
              "      <td>6283376</td>\n",
              "      <td>2018</td>\n",
              "      <td>Dec</td>\n",
              "      <td>26</td>\n",
              "      <td>09:06:00</td>\n",
              "      <td>482370</td>\n",
              "      <td>LONDON BUS COFFEE MUG</td>\n",
              "      <td>3</td>\n",
              "      <td>3.52</td>\n",
              "      <td>3.87</td>\n",
              "      <td>United Kingdom</td>\n",
              "      <td>['Middle Age', 'Corporation', '2-5 Year Client']</td>\n",
              "      <td>10.56</td>\n",
              "      <td>11.61</td>\n",
              "      <td>1.05</td>\n",
              "      <td>0.1</td>\n",
              "      <td>26-Dec-2018</td>\n",
              "    </tr>\n",
              "    <tr>\n",
              "      <th>2</th>\n",
              "      <td>267099</td>\n",
              "      <td>6385599</td>\n",
              "      <td>2019</td>\n",
              "      <td>Feb</td>\n",
              "      <td>15</td>\n",
              "      <td>09:45:00</td>\n",
              "      <td>490728</td>\n",
              "      <td>SET 12 COLOUR PENCILS DOLLY GIRL</td>\n",
              "      <td>72</td>\n",
              "      <td>0.90</td>\n",
              "      <td>1.62</td>\n",
              "      <td>France</td>\n",
              "      <td>['Middle Age', 'Corporation', '2-5 Year Client']</td>\n",
              "      <td>64.80</td>\n",
              "      <td>116.64</td>\n",
              "      <td>51.84</td>\n",
              "      <td>0.8</td>\n",
              "      <td>15-Feb-2019</td>\n",
              "    </tr>\n",
              "    <tr>\n",
              "      <th>3</th>\n",
              "      <td>380478</td>\n",
              "      <td>6044973</td>\n",
              "      <td>2018</td>\n",
              "      <td>Jun</td>\n",
              "      <td>22</td>\n",
              "      <td>07:14:00</td>\n",
              "      <td>459186</td>\n",
              "      <td>UNION JACK FLAG LUGGAGE TAG</td>\n",
              "      <td>3</td>\n",
              "      <td>1.73</td>\n",
              "      <td>1.90</td>\n",
              "      <td>United Kingdom</td>\n",
              "      <td>['Middle Age', 'Small Business', 'New Client']</td>\n",
              "      <td>5.19</td>\n",
              "      <td>5.70</td>\n",
              "      <td>0.51</td>\n",
              "      <td>0.1</td>\n",
              "      <td>22-Jun-2018</td>\n",
              "    </tr>\n",
              "    <tr>\n",
              "      <th>4</th>\n",
              "      <td>-1</td>\n",
              "      <td>6143225</td>\n",
              "      <td>2018</td>\n",
              "      <td>Sep</td>\n",
              "      <td>10</td>\n",
              "      <td>11:58:00</td>\n",
              "      <td>1733592</td>\n",
              "      <td>WASHROOM METAL SIGN</td>\n",
              "      <td>3</td>\n",
              "      <td>3.40</td>\n",
              "      <td>5.78</td>\n",
              "      <td>United Kingdom</td>\n",
              "      <td>['Middle Age', 'Solo Entrepreneur', '2-5 Year ...</td>\n",
              "      <td>10.20</td>\n",
              "      <td>17.34</td>\n",
              "      <td>7.14</td>\n",
              "      <td>0.7</td>\n",
              "      <td>10-Sep-2018</td>\n",
              "    </tr>\n",
              "  </tbody>\n",
              "</table>\n",
              "</div>\n",
              "      <button class=\"colab-df-convert\" onclick=\"convertToInteractive('df-1b0024e3-eb05-4207-b4c5-93dfe0b71147')\"\n",
              "              title=\"Convert this dataframe to an interactive table.\"\n",
              "              style=\"display:none;\">\n",
              "        \n",
              "  <svg xmlns=\"http://www.w3.org/2000/svg\" height=\"24px\"viewBox=\"0 0 24 24\"\n",
              "       width=\"24px\">\n",
              "    <path d=\"M0 0h24v24H0V0z\" fill=\"none\"/>\n",
              "    <path d=\"M18.56 5.44l.94 2.06.94-2.06 2.06-.94-2.06-.94-.94-2.06-.94 2.06-2.06.94zm-11 1L8.5 8.5l.94-2.06 2.06-.94-2.06-.94L8.5 2.5l-.94 2.06-2.06.94zm10 10l.94 2.06.94-2.06 2.06-.94-2.06-.94-.94-2.06-.94 2.06-2.06.94z\"/><path d=\"M17.41 7.96l-1.37-1.37c-.4-.4-.92-.59-1.43-.59-.52 0-1.04.2-1.43.59L10.3 9.45l-7.72 7.72c-.78.78-.78 2.05 0 2.83L4 21.41c.39.39.9.59 1.41.59.51 0 1.02-.2 1.41-.59l7.78-7.78 2.81-2.81c.8-.78.8-2.07 0-2.86zM5.41 20L4 18.59l7.72-7.72 1.47 1.35L5.41 20z\"/>\n",
              "  </svg>\n",
              "      </button>\n",
              "      \n",
              "  <style>\n",
              "    .colab-df-container {\n",
              "      display:flex;\n",
              "      flex-wrap:wrap;\n",
              "      gap: 12px;\n",
              "    }\n",
              "\n",
              "    .colab-df-convert {\n",
              "      background-color: #E8F0FE;\n",
              "      border: none;\n",
              "      border-radius: 50%;\n",
              "      cursor: pointer;\n",
              "      display: none;\n",
              "      fill: #1967D2;\n",
              "      height: 32px;\n",
              "      padding: 0 0 0 0;\n",
              "      width: 32px;\n",
              "    }\n",
              "\n",
              "    .colab-df-convert:hover {\n",
              "      background-color: #E2EBFA;\n",
              "      box-shadow: 0px 1px 2px rgba(60, 64, 67, 0.3), 0px 1px 3px 1px rgba(60, 64, 67, 0.15);\n",
              "      fill: #174EA6;\n",
              "    }\n",
              "\n",
              "    [theme=dark] .colab-df-convert {\n",
              "      background-color: #3B4455;\n",
              "      fill: #D2E3FC;\n",
              "    }\n",
              "\n",
              "    [theme=dark] .colab-df-convert:hover {\n",
              "      background-color: #434B5C;\n",
              "      box-shadow: 0px 1px 3px 1px rgba(0, 0, 0, 0.15);\n",
              "      filter: drop-shadow(0px 1px 2px rgba(0, 0, 0, 0.3));\n",
              "      fill: #FFFFFF;\n",
              "    }\n",
              "  </style>\n",
              "\n",
              "      <script>\n",
              "        const buttonEl =\n",
              "          document.querySelector('#df-1b0024e3-eb05-4207-b4c5-93dfe0b71147 button.colab-df-convert');\n",
              "        buttonEl.style.display =\n",
              "          google.colab.kernel.accessAllowed ? 'block' : 'none';\n",
              "\n",
              "        async function convertToInteractive(key) {\n",
              "          const element = document.querySelector('#df-1b0024e3-eb05-4207-b4c5-93dfe0b71147');\n",
              "          const dataTable =\n",
              "            await google.colab.kernel.invokeFunction('convertToInteractive',\n",
              "                                                     [key], {});\n",
              "          if (!dataTable) return;\n",
              "\n",
              "          const docLinkHtml = 'Like what you see? Visit the ' +\n",
              "            '<a target=\"_blank\" href=https://colab.research.google.com/notebooks/data_table.ipynb>data table notebook</a>'\n",
              "            + ' to learn more about interactive tables.';\n",
              "          element.innerHTML = '';\n",
              "          dataTable['output_type'] = 'display_data';\n",
              "          await google.colab.output.renderOutput(dataTable, element);\n",
              "          const docLink = document.createElement('div');\n",
              "          docLink.innerHTML = docLinkHtml;\n",
              "          element.appendChild(docLink);\n",
              "        }\n",
              "      </script>\n",
              "    </div>\n",
              "  </div>\n",
              "  "
            ]
          },
          "metadata": {},
          "execution_count": 109
        }
      ]
    },
    {
      "cell_type": "code",
      "source": [
        "data.iloc[-3]  #show last 3 rows "
      ],
      "metadata": {
        "colab": {
          "base_uri": "https://localhost:8080/"
        },
        "id": "Dvbg5xaXbn4v",
        "outputId": "b0e18870-e075-4e87-b778-95c9ea1f6b5c"
      },
      "execution_count": null,
      "outputs": [
        {
          "output_type": "execute_result",
          "data": {
            "text/plain": [
              "UserId                                                          341082\n",
              "TransactionId                                                  6140585\n",
              "Year                                                              2018\n",
              "Month                                                              Sep\n",
              "Day                                                                  8\n",
              "Time                                                          10:41:00\n",
              "ItemCode                                                        487326\n",
              "ItemDescription                                 LUNCH BAG APPLE DESIGN\n",
              "NumberOfItemsPurchased                                              15\n",
              "CostPerItem                                                       2.28\n",
              "SellingPricePerItem                                               2.51\n",
              "Country                                                 United Kingdom\n",
              "ClientKeywords            ['Young Adult', 'Corporation', 'New Client']\n",
              "CostPerTransction                                                 34.2\n",
              "SalesPertransctions                                              37.65\n",
              "ProfitPerTransaction                                              3.45\n",
              "Markup                                                             0.1\n",
              "date                                                        8-Sep-2018\n",
              "Name: 1047585, dtype: object"
            ]
          },
          "metadata": {},
          "execution_count": 110
        }
      ]
    },
    {
      "cell_type": "code",
      "source": [
        "data.iloc[:,5]   #bring all rows in 5th columns"
      ],
      "metadata": {
        "colab": {
          "base_uri": "https://localhost:8080/"
        },
        "id": "N0yDzydZbn8C",
        "outputId": "86379781-946d-449d-e8ea-505b5891c782"
      },
      "execution_count": null,
      "outputs": [
        {
          "output_type": "execute_result",
          "data": {
            "text/plain": [
              "0          12:50:00\n",
              "1          09:06:00\n",
              "2          09:45:00\n",
              "3          07:14:00\n",
              "4          11:58:00\n",
              "             ...   \n",
              "1047583    08:16:00\n",
              "1047584    08:56:00\n",
              "1047585    10:41:00\n",
              "1047586    09:32:00\n",
              "1047587    12:00:00\n",
              "Name: Time, Length: 1047588, dtype: object"
            ]
          },
          "metadata": {},
          "execution_count": 111
        }
      ]
    },
    {
      "cell_type": "code",
      "source": [
        "data.iloc[5:]"
      ],
      "metadata": {
        "colab": {
          "base_uri": "https://localhost:8080/",
          "height": 835
        },
        "id": "ukuqip-MihXM",
        "outputId": "59953071-58a0-4044-94c7-a7b928f97bac"
      },
      "execution_count": null,
      "outputs": [
        {
          "output_type": "execute_result",
          "data": {
            "text/plain": [
              "         UserId  TransactionId      Time  ItemCode  \\\n",
              "5        364266        6370276  07:54:00    453348   \n",
              "6        344946        6383036  08:59:00    469875   \n",
              "7            -1        5925458  12:46:00    440370   \n",
              "8        336420        6359661  07:18:00    490455   \n",
              "9        297066        6379318  06:18:00    492513   \n",
              "...         ...            ...       ...       ...   \n",
              "1047583  315651        5999719  10:46:00    480018   \n",
              "1047584  300909        6010158  08:17:00    435771   \n",
              "1047585  277830        6000060  13:33:00    477162   \n",
              "1047586      -1        6015801  14:18:00    476637   \n",
              "1047587      -1        6015856  14:24:00    484071   \n",
              "\n",
              "                            ItemDescription  NumberOfItemsPurchased  \\\n",
              "5              retrospot giant tube matches                       6   \n",
              "6         airline bag vintage jet set brown                       3   \n",
              "7        pink floral feltcraft shoulder bag                       3   \n",
              "8                hot water bottle keep calm                      12   \n",
              "9                 oval  mini portrait frame                      24   \n",
              "...                                     ...                     ...   \n",
              "1047583                 easter tin keepsake                       6   \n",
              "1047584    funky washing up gloves assorted                      36   \n",
              "1047585   set of 6 spice tins pantry design                       6   \n",
              "1047586     green regency teacup and saucer                       3   \n",
              "1047587          recycled acapulco mat blue                       3   \n",
              "\n",
              "         CostPerItem  SellingPricePerItem         Country  CostPerTransction  \\\n",
              "5               3.52                 5.98  United Kingdom              21.12   \n",
              "6               5.87                 8.81  United Kingdom              17.61   \n",
              "7               5.18                 6.22  United Kingdom              15.54   \n",
              "8               6.84                12.31  United Kingdom              82.08   \n",
              "9               2.70                 4.86  United Kingdom              64.80   \n",
              "...              ...                  ...             ...                ...   \n",
              "1047583         2.28                 3.88  United Kingdom              13.68   \n",
              "1047584         2.90                 5.22  United Kingdom             104.40   \n",
              "1047585         5.46                 7.10  United Kingdom              32.76   \n",
              "1047586         8.00                10.40  United Kingdom              24.00   \n",
              "1047587        22.95                41.31  United Kingdom              68.85   \n",
              "\n",
              "         SalesPertransctions  ProfitPerTransaction  Markup         date  \\\n",
              "5                      35.88                 14.76     0.7   9-Feb-2019   \n",
              "6                      26.43                  8.82     0.5  13-Feb-2019   \n",
              "7                      18.66                  3.12     0.2  24-Feb-2018   \n",
              "8                     147.72                 65.64     0.8   4-Feb-2019   \n",
              "9                     116.64                 51.84     0.8  12-Feb-2019   \n",
              "...                      ...                   ...     ...          ...   \n",
              "1047583                23.28                  9.60     0.7  14-May-2018   \n",
              "1047584               187.92                 83.52     0.8  23-May-2018   \n",
              "1047585                42.60                  9.84     0.3  14-May-2018   \n",
              "1047586                31.20                  7.20     0.3  29-May-2018   \n",
              "1047587               123.93                 55.08     0.8  29-May-2018   \n",
              "\n",
              "            Client_Age           Client_Type     Contract_Length Season  \n",
              "5             'Senior'         'Corporation'   '2-5 Year Client'    Mid  \n",
              "6              'Adult'      'Small Business'        'New Client'    Mid  \n",
              "7         'Middle Age'   'Solo Entrepreneur'   '2-5 Year Client'    Mid  \n",
              "8         'Middle Age'         'Corporation'        'New Client'    Mid  \n",
              "9             'Senior'      'Small Business'        'New Client'    Mid  \n",
              "...                ...                   ...                 ...    ...  \n",
              "1047583   'Middle Age'         'Corporation'   '2-5 Year Client'    Low  \n",
              "1047584  'Young Adult'         'Corporation'        'New Client'    Low  \n",
              "1047585  'Young Adult'      'Small Business'   '2-5 Year Client'    Low  \n",
              "1047586   'Middle Age'   'Solo Entrepreneur'   '2-5 Year Client'    Low  \n",
              "1047587   'Middle Age'   'Solo Entrepreneur'   '2-5 Year Client'    Low  \n",
              "\n",
              "[1047583 rows x 18 columns]"
            ],
            "text/html": [
              "\n",
              "  <div id=\"df-90a6349b-f8f4-46c1-b547-a82058a1bd56\">\n",
              "    <div class=\"colab-df-container\">\n",
              "      <div>\n",
              "<style scoped>\n",
              "    .dataframe tbody tr th:only-of-type {\n",
              "        vertical-align: middle;\n",
              "    }\n",
              "\n",
              "    .dataframe tbody tr th {\n",
              "        vertical-align: top;\n",
              "    }\n",
              "\n",
              "    .dataframe thead th {\n",
              "        text-align: right;\n",
              "    }\n",
              "</style>\n",
              "<table border=\"1\" class=\"dataframe\">\n",
              "  <thead>\n",
              "    <tr style=\"text-align: right;\">\n",
              "      <th></th>\n",
              "      <th>UserId</th>\n",
              "      <th>TransactionId</th>\n",
              "      <th>Time</th>\n",
              "      <th>ItemCode</th>\n",
              "      <th>ItemDescription</th>\n",
              "      <th>NumberOfItemsPurchased</th>\n",
              "      <th>CostPerItem</th>\n",
              "      <th>SellingPricePerItem</th>\n",
              "      <th>Country</th>\n",
              "      <th>CostPerTransction</th>\n",
              "      <th>SalesPertransctions</th>\n",
              "      <th>ProfitPerTransaction</th>\n",
              "      <th>Markup</th>\n",
              "      <th>date</th>\n",
              "      <th>Client_Age</th>\n",
              "      <th>Client_Type</th>\n",
              "      <th>Contract_Length</th>\n",
              "      <th>Season</th>\n",
              "    </tr>\n",
              "  </thead>\n",
              "  <tbody>\n",
              "    <tr>\n",
              "      <th>5</th>\n",
              "      <td>364266</td>\n",
              "      <td>6370276</td>\n",
              "      <td>07:54:00</td>\n",
              "      <td>453348</td>\n",
              "      <td>retrospot giant tube matches</td>\n",
              "      <td>6</td>\n",
              "      <td>3.52</td>\n",
              "      <td>5.98</td>\n",
              "      <td>United Kingdom</td>\n",
              "      <td>21.12</td>\n",
              "      <td>35.88</td>\n",
              "      <td>14.76</td>\n",
              "      <td>0.7</td>\n",
              "      <td>9-Feb-2019</td>\n",
              "      <td>'Senior'</td>\n",
              "      <td>'Corporation'</td>\n",
              "      <td>'2-5 Year Client'</td>\n",
              "      <td>Mid</td>\n",
              "    </tr>\n",
              "    <tr>\n",
              "      <th>6</th>\n",
              "      <td>344946</td>\n",
              "      <td>6383036</td>\n",
              "      <td>08:59:00</td>\n",
              "      <td>469875</td>\n",
              "      <td>airline bag vintage jet set brown</td>\n",
              "      <td>3</td>\n",
              "      <td>5.87</td>\n",
              "      <td>8.81</td>\n",
              "      <td>United Kingdom</td>\n",
              "      <td>17.61</td>\n",
              "      <td>26.43</td>\n",
              "      <td>8.82</td>\n",
              "      <td>0.5</td>\n",
              "      <td>13-Feb-2019</td>\n",
              "      <td>'Adult'</td>\n",
              "      <td>'Small Business'</td>\n",
              "      <td>'New Client'</td>\n",
              "      <td>Mid</td>\n",
              "    </tr>\n",
              "    <tr>\n",
              "      <th>7</th>\n",
              "      <td>-1</td>\n",
              "      <td>5925458</td>\n",
              "      <td>12:46:00</td>\n",
              "      <td>440370</td>\n",
              "      <td>pink floral feltcraft shoulder bag</td>\n",
              "      <td>3</td>\n",
              "      <td>5.18</td>\n",
              "      <td>6.22</td>\n",
              "      <td>United Kingdom</td>\n",
              "      <td>15.54</td>\n",
              "      <td>18.66</td>\n",
              "      <td>3.12</td>\n",
              "      <td>0.2</td>\n",
              "      <td>24-Feb-2018</td>\n",
              "      <td>'Middle Age'</td>\n",
              "      <td>'Solo Entrepreneur'</td>\n",
              "      <td>'2-5 Year Client'</td>\n",
              "      <td>Mid</td>\n",
              "    </tr>\n",
              "    <tr>\n",
              "      <th>8</th>\n",
              "      <td>336420</td>\n",
              "      <td>6359661</td>\n",
              "      <td>07:18:00</td>\n",
              "      <td>490455</td>\n",
              "      <td>hot water bottle keep calm</td>\n",
              "      <td>12</td>\n",
              "      <td>6.84</td>\n",
              "      <td>12.31</td>\n",
              "      <td>United Kingdom</td>\n",
              "      <td>82.08</td>\n",
              "      <td>147.72</td>\n",
              "      <td>65.64</td>\n",
              "      <td>0.8</td>\n",
              "      <td>4-Feb-2019</td>\n",
              "      <td>'Middle Age'</td>\n",
              "      <td>'Corporation'</td>\n",
              "      <td>'New Client'</td>\n",
              "      <td>Mid</td>\n",
              "    </tr>\n",
              "    <tr>\n",
              "      <th>9</th>\n",
              "      <td>297066</td>\n",
              "      <td>6379318</td>\n",
              "      <td>06:18:00</td>\n",
              "      <td>492513</td>\n",
              "      <td>oval  mini portrait frame</td>\n",
              "      <td>24</td>\n",
              "      <td>2.70</td>\n",
              "      <td>4.86</td>\n",
              "      <td>United Kingdom</td>\n",
              "      <td>64.80</td>\n",
              "      <td>116.64</td>\n",
              "      <td>51.84</td>\n",
              "      <td>0.8</td>\n",
              "      <td>12-Feb-2019</td>\n",
              "      <td>'Senior'</td>\n",
              "      <td>'Small Business'</td>\n",
              "      <td>'New Client'</td>\n",
              "      <td>Mid</td>\n",
              "    </tr>\n",
              "    <tr>\n",
              "      <th>...</th>\n",
              "      <td>...</td>\n",
              "      <td>...</td>\n",
              "      <td>...</td>\n",
              "      <td>...</td>\n",
              "      <td>...</td>\n",
              "      <td>...</td>\n",
              "      <td>...</td>\n",
              "      <td>...</td>\n",
              "      <td>...</td>\n",
              "      <td>...</td>\n",
              "      <td>...</td>\n",
              "      <td>...</td>\n",
              "      <td>...</td>\n",
              "      <td>...</td>\n",
              "      <td>...</td>\n",
              "      <td>...</td>\n",
              "      <td>...</td>\n",
              "      <td>...</td>\n",
              "    </tr>\n",
              "    <tr>\n",
              "      <th>1047583</th>\n",
              "      <td>315651</td>\n",
              "      <td>5999719</td>\n",
              "      <td>10:46:00</td>\n",
              "      <td>480018</td>\n",
              "      <td>easter tin keepsake</td>\n",
              "      <td>6</td>\n",
              "      <td>2.28</td>\n",
              "      <td>3.88</td>\n",
              "      <td>United Kingdom</td>\n",
              "      <td>13.68</td>\n",
              "      <td>23.28</td>\n",
              "      <td>9.60</td>\n",
              "      <td>0.7</td>\n",
              "      <td>14-May-2018</td>\n",
              "      <td>'Middle Age'</td>\n",
              "      <td>'Corporation'</td>\n",
              "      <td>'2-5 Year Client'</td>\n",
              "      <td>Low</td>\n",
              "    </tr>\n",
              "    <tr>\n",
              "      <th>1047584</th>\n",
              "      <td>300909</td>\n",
              "      <td>6010158</td>\n",
              "      <td>08:17:00</td>\n",
              "      <td>435771</td>\n",
              "      <td>funky washing up gloves assorted</td>\n",
              "      <td>36</td>\n",
              "      <td>2.90</td>\n",
              "      <td>5.22</td>\n",
              "      <td>United Kingdom</td>\n",
              "      <td>104.40</td>\n",
              "      <td>187.92</td>\n",
              "      <td>83.52</td>\n",
              "      <td>0.8</td>\n",
              "      <td>23-May-2018</td>\n",
              "      <td>'Young Adult'</td>\n",
              "      <td>'Corporation'</td>\n",
              "      <td>'New Client'</td>\n",
              "      <td>Low</td>\n",
              "    </tr>\n",
              "    <tr>\n",
              "      <th>1047585</th>\n",
              "      <td>277830</td>\n",
              "      <td>6000060</td>\n",
              "      <td>13:33:00</td>\n",
              "      <td>477162</td>\n",
              "      <td>set of 6 spice tins pantry design</td>\n",
              "      <td>6</td>\n",
              "      <td>5.46</td>\n",
              "      <td>7.10</td>\n",
              "      <td>United Kingdom</td>\n",
              "      <td>32.76</td>\n",
              "      <td>42.60</td>\n",
              "      <td>9.84</td>\n",
              "      <td>0.3</td>\n",
              "      <td>14-May-2018</td>\n",
              "      <td>'Young Adult'</td>\n",
              "      <td>'Small Business'</td>\n",
              "      <td>'2-5 Year Client'</td>\n",
              "      <td>Low</td>\n",
              "    </tr>\n",
              "    <tr>\n",
              "      <th>1047586</th>\n",
              "      <td>-1</td>\n",
              "      <td>6015801</td>\n",
              "      <td>14:18:00</td>\n",
              "      <td>476637</td>\n",
              "      <td>green regency teacup and saucer</td>\n",
              "      <td>3</td>\n",
              "      <td>8.00</td>\n",
              "      <td>10.40</td>\n",
              "      <td>United Kingdom</td>\n",
              "      <td>24.00</td>\n",
              "      <td>31.20</td>\n",
              "      <td>7.20</td>\n",
              "      <td>0.3</td>\n",
              "      <td>29-May-2018</td>\n",
              "      <td>'Middle Age'</td>\n",
              "      <td>'Solo Entrepreneur'</td>\n",
              "      <td>'2-5 Year Client'</td>\n",
              "      <td>Low</td>\n",
              "    </tr>\n",
              "    <tr>\n",
              "      <th>1047587</th>\n",
              "      <td>-1</td>\n",
              "      <td>6015856</td>\n",
              "      <td>14:24:00</td>\n",
              "      <td>484071</td>\n",
              "      <td>recycled acapulco mat blue</td>\n",
              "      <td>3</td>\n",
              "      <td>22.95</td>\n",
              "      <td>41.31</td>\n",
              "      <td>United Kingdom</td>\n",
              "      <td>68.85</td>\n",
              "      <td>123.93</td>\n",
              "      <td>55.08</td>\n",
              "      <td>0.8</td>\n",
              "      <td>29-May-2018</td>\n",
              "      <td>'Middle Age'</td>\n",
              "      <td>'Solo Entrepreneur'</td>\n",
              "      <td>'2-5 Year Client'</td>\n",
              "      <td>Low</td>\n",
              "    </tr>\n",
              "  </tbody>\n",
              "</table>\n",
              "<p>1047583 rows × 18 columns</p>\n",
              "</div>\n",
              "      <button class=\"colab-df-convert\" onclick=\"convertToInteractive('df-90a6349b-f8f4-46c1-b547-a82058a1bd56')\"\n",
              "              title=\"Convert this dataframe to an interactive table.\"\n",
              "              style=\"display:none;\">\n",
              "        \n",
              "  <svg xmlns=\"http://www.w3.org/2000/svg\" height=\"24px\"viewBox=\"0 0 24 24\"\n",
              "       width=\"24px\">\n",
              "    <path d=\"M0 0h24v24H0V0z\" fill=\"none\"/>\n",
              "    <path d=\"M18.56 5.44l.94 2.06.94-2.06 2.06-.94-2.06-.94-.94-2.06-.94 2.06-2.06.94zm-11 1L8.5 8.5l.94-2.06 2.06-.94-2.06-.94L8.5 2.5l-.94 2.06-2.06.94zm10 10l.94 2.06.94-2.06 2.06-.94-2.06-.94-.94-2.06-.94 2.06-2.06.94z\"/><path d=\"M17.41 7.96l-1.37-1.37c-.4-.4-.92-.59-1.43-.59-.52 0-1.04.2-1.43.59L10.3 9.45l-7.72 7.72c-.78.78-.78 2.05 0 2.83L4 21.41c.39.39.9.59 1.41.59.51 0 1.02-.2 1.41-.59l7.78-7.78 2.81-2.81c.8-.78.8-2.07 0-2.86zM5.41 20L4 18.59l7.72-7.72 1.47 1.35L5.41 20z\"/>\n",
              "  </svg>\n",
              "      </button>\n",
              "      \n",
              "  <style>\n",
              "    .colab-df-container {\n",
              "      display:flex;\n",
              "      flex-wrap:wrap;\n",
              "      gap: 12px;\n",
              "    }\n",
              "\n",
              "    .colab-df-convert {\n",
              "      background-color: #E8F0FE;\n",
              "      border: none;\n",
              "      border-radius: 50%;\n",
              "      cursor: pointer;\n",
              "      display: none;\n",
              "      fill: #1967D2;\n",
              "      height: 32px;\n",
              "      padding: 0 0 0 0;\n",
              "      width: 32px;\n",
              "    }\n",
              "\n",
              "    .colab-df-convert:hover {\n",
              "      background-color: #E2EBFA;\n",
              "      box-shadow: 0px 1px 2px rgba(60, 64, 67, 0.3), 0px 1px 3px 1px rgba(60, 64, 67, 0.15);\n",
              "      fill: #174EA6;\n",
              "    }\n",
              "\n",
              "    [theme=dark] .colab-df-convert {\n",
              "      background-color: #3B4455;\n",
              "      fill: #D2E3FC;\n",
              "    }\n",
              "\n",
              "    [theme=dark] .colab-df-convert:hover {\n",
              "      background-color: #434B5C;\n",
              "      box-shadow: 0px 1px 3px 1px rgba(0, 0, 0, 0.15);\n",
              "      filter: drop-shadow(0px 1px 2px rgba(0, 0, 0, 0.3));\n",
              "      fill: #FFFFFF;\n",
              "    }\n",
              "  </style>\n",
              "\n",
              "      <script>\n",
              "        const buttonEl =\n",
              "          document.querySelector('#df-90a6349b-f8f4-46c1-b547-a82058a1bd56 button.colab-df-convert');\n",
              "        buttonEl.style.display =\n",
              "          google.colab.kernel.accessAllowed ? 'block' : 'none';\n",
              "\n",
              "        async function convertToInteractive(key) {\n",
              "          const element = document.querySelector('#df-90a6349b-f8f4-46c1-b547-a82058a1bd56');\n",
              "          const dataTable =\n",
              "            await google.colab.kernel.invokeFunction('convertToInteractive',\n",
              "                                                     [key], {});\n",
              "          if (!dataTable) return;\n",
              "\n",
              "          const docLinkHtml = 'Like what you see? Visit the ' +\n",
              "            '<a target=\"_blank\" href=https://colab.research.google.com/notebooks/data_table.ipynb>data table notebook</a>'\n",
              "            + ' to learn more about interactive tables.';\n",
              "          element.innerHTML = '';\n",
              "          dataTable['output_type'] = 'display_data';\n",
              "          await google.colab.output.renderOutput(dataTable, element);\n",
              "          const docLink = document.createElement('div');\n",
              "          docLink.innerHTML = docLinkHtml;\n",
              "          element.appendChild(docLink);\n",
              "        }\n",
              "      </script>\n",
              "    </div>\n",
              "  </div>\n",
              "  "
            ]
          },
          "metadata": {},
          "execution_count": 142
        }
      ]
    },
    {
      "cell_type": "code",
      "source": [
        "data.iloc[5,7]   # bring 5th row in 7th columns"
      ],
      "metadata": {
        "colab": {
          "base_uri": "https://localhost:8080/",
          "height": 35
        },
        "id": "F6mlpAmxihZO",
        "outputId": "e26cbb6d-8b45-485b-ddb6-2aa53d57d816"
      },
      "execution_count": null,
      "outputs": [
        {
          "output_type": "execute_result",
          "data": {
            "text/plain": [
              "'CUT GLASS T-LIGHT HOLDER OCTAGON'"
            ],
            "application/vnd.google.colaboratory.intrinsic+json": {
              "type": "string"
            }
          },
          "metadata": {},
          "execution_count": 113
        }
      ]
    },
    {
      "cell_type": "markdown",
      "source": [
        "**using split kewyword to split the client keyword fields**"
      ],
      "metadata": {
        "id": "yFkW3N6gdrwJ"
      }
    },
    {
      "cell_type": "code",
      "source": [
        "split_col=data['ClientKeywords'].str.split(',',expand=True)"
      ],
      "metadata": {
        "id": "IBOf8J06ihcJ"
      },
      "execution_count": null,
      "outputs": []
    },
    {
      "cell_type": "code",
      "source": [
        "data['Client_Age']=split_col[0]"
      ],
      "metadata": {
        "id": "hEx6Qy7kiheX"
      },
      "execution_count": null,
      "outputs": []
    },
    {
      "cell_type": "code",
      "source": [
        "data['Client_Type']=split_col[1]\n"
      ],
      "metadata": {
        "id": "9P_sr_GHihg5"
      },
      "execution_count": null,
      "outputs": []
    },
    {
      "cell_type": "code",
      "source": [
        "data['Contract_Length']=split_col[2]"
      ],
      "metadata": {
        "id": "8KjVOA6Fihj3"
      },
      "execution_count": null,
      "outputs": []
    },
    {
      "cell_type": "markdown",
      "source": [
        "**Using Replace Functions**"
      ],
      "metadata": {
        "id": "RbC44sFFgx3S"
      }
    },
    {
      "cell_type": "code",
      "source": [
        "data['Client_Age']=data['Client_Age'].str.replace('[','')"
      ],
      "metadata": {
        "id": "HKtfaV0MihmS",
        "colab": {
          "base_uri": "https://localhost:8080/"
        },
        "outputId": "c0d00ccc-ff3d-4ec6-f39e-b0aed77c4610"
      },
      "execution_count": null,
      "outputs": [
        {
          "output_type": "stream",
          "name": "stderr",
          "text": [
            "/usr/local/lib/python3.7/dist-packages/ipykernel_launcher.py:1: FutureWarning: The default value of regex will change from True to False in a future version. In addition, single character regular expressions will *not* be treated as literal strings when regex=True.\n",
            "  \"\"\"Entry point for launching an IPython kernel.\n"
          ]
        }
      ]
    },
    {
      "cell_type": "code",
      "source": [
        "data['Contract_Length']=data['Contract_Length'].str.replace(']','')"
      ],
      "metadata": {
        "id": "UTUVjcrlihpK",
        "colab": {
          "base_uri": "https://localhost:8080/"
        },
        "outputId": "3c531ac2-80ef-4cc5-8282-10619c7f2d04"
      },
      "execution_count": null,
      "outputs": [
        {
          "output_type": "stream",
          "name": "stderr",
          "text": [
            "/usr/local/lib/python3.7/dist-packages/ipykernel_launcher.py:1: FutureWarning: The default value of regex will change from True to False in a future version. In addition, single character regular expressions will *not* be treated as literal strings when regex=True.\n",
            "  \"\"\"Entry point for launching an IPython kernel.\n"
          ]
        }
      ]
    },
    {
      "cell_type": "code",
      "source": [
        "data['ItemDescription']=data['ItemDescription'].str.lower()"
      ],
      "metadata": {
        "id": "9-M2LR1Yihrw"
      },
      "execution_count": null,
      "outputs": []
    },
    {
      "cell_type": "markdown",
      "source": [
        "**Merge the new dataset\n",
        "   Bringing New dataset**"
      ],
      "metadata": {
        "id": "UwdakpLMmqsI"
      }
    },
    {
      "cell_type": "code",
      "source": [
        "seasons=pd.read_csv('/content/drive/MyDrive/sales project data/value_inc_seasons.csv',sep=';')"
      ],
      "metadata": {
        "id": "hW8em99Jihvr"
      },
      "execution_count": null,
      "outputs": []
    },
    {
      "cell_type": "code",
      "source": [
        "data=pd.merge(data,seasons, on='Month')"
      ],
      "metadata": {
        "id": "qVPY54AGk2BE"
      },
      "execution_count": null,
      "outputs": []
    },
    {
      "cell_type": "code",
      "source": [
        "data=data.drop(['ClientKeywords','Year','Day'],axis=1)"
      ],
      "metadata": {
        "colab": {
          "base_uri": "https://localhost:8080/",
          "height": 311
        },
        "id": "JBhsMGHmk2DV",
        "outputId": "9ed3dea6-8dd0-4afd-9a3e-db314aa5a641"
      },
      "execution_count": null,
      "outputs": [
        {
          "output_type": "error",
          "ename": "KeyError",
          "evalue": "ignored",
          "traceback": [
            "\u001b[0;31m---------------------------------------------------------------------------\u001b[0m",
            "\u001b[0;31mKeyError\u001b[0m                                  Traceback (most recent call last)",
            "\u001b[0;32m<ipython-input-140-e772875abc1e>\u001b[0m in \u001b[0;36m<module>\u001b[0;34m\u001b[0m\n\u001b[0;32m----> 1\u001b[0;31m \u001b[0mdata\u001b[0m\u001b[0;34m=\u001b[0m\u001b[0mdata\u001b[0m\u001b[0;34m.\u001b[0m\u001b[0mdrop\u001b[0m\u001b[0;34m(\u001b[0m\u001b[0;34m[\u001b[0m\u001b[0;34m'ClientKeywords'\u001b[0m\u001b[0;34m,\u001b[0m\u001b[0;34m'Year'\u001b[0m\u001b[0;34m,\u001b[0m\u001b[0;34m'Day'\u001b[0m\u001b[0;34m]\u001b[0m\u001b[0;34m,\u001b[0m\u001b[0maxis\u001b[0m\u001b[0;34m=\u001b[0m\u001b[0;36m1\u001b[0m\u001b[0;34m)\u001b[0m\u001b[0;34m\u001b[0m\u001b[0;34m\u001b[0m\u001b[0m\n\u001b[0m",
            "\u001b[0;32m/usr/local/lib/python3.7/dist-packages/pandas/util/_decorators.py\u001b[0m in \u001b[0;36mwrapper\u001b[0;34m(*args, **kwargs)\u001b[0m\n\u001b[1;32m    309\u001b[0m                     \u001b[0mstacklevel\u001b[0m\u001b[0;34m=\u001b[0m\u001b[0mstacklevel\u001b[0m\u001b[0;34m,\u001b[0m\u001b[0;34m\u001b[0m\u001b[0;34m\u001b[0m\u001b[0m\n\u001b[1;32m    310\u001b[0m                 )\n\u001b[0;32m--> 311\u001b[0;31m             \u001b[0;32mreturn\u001b[0m \u001b[0mfunc\u001b[0m\u001b[0;34m(\u001b[0m\u001b[0;34m*\u001b[0m\u001b[0margs\u001b[0m\u001b[0;34m,\u001b[0m \u001b[0;34m**\u001b[0m\u001b[0mkwargs\u001b[0m\u001b[0;34m)\u001b[0m\u001b[0;34m\u001b[0m\u001b[0;34m\u001b[0m\u001b[0m\n\u001b[0m\u001b[1;32m    312\u001b[0m \u001b[0;34m\u001b[0m\u001b[0m\n\u001b[1;32m    313\u001b[0m         \u001b[0;32mreturn\u001b[0m \u001b[0mwrapper\u001b[0m\u001b[0;34m\u001b[0m\u001b[0;34m\u001b[0m\u001b[0m\n",
            "\u001b[0;32m/usr/local/lib/python3.7/dist-packages/pandas/core/frame.py\u001b[0m in \u001b[0;36mdrop\u001b[0;34m(self, labels, axis, index, columns, level, inplace, errors)\u001b[0m\n\u001b[1;32m   4911\u001b[0m             \u001b[0mlevel\u001b[0m\u001b[0;34m=\u001b[0m\u001b[0mlevel\u001b[0m\u001b[0;34m,\u001b[0m\u001b[0;34m\u001b[0m\u001b[0;34m\u001b[0m\u001b[0m\n\u001b[1;32m   4912\u001b[0m             \u001b[0minplace\u001b[0m\u001b[0;34m=\u001b[0m\u001b[0minplace\u001b[0m\u001b[0;34m,\u001b[0m\u001b[0;34m\u001b[0m\u001b[0;34m\u001b[0m\u001b[0m\n\u001b[0;32m-> 4913\u001b[0;31m             \u001b[0merrors\u001b[0m\u001b[0;34m=\u001b[0m\u001b[0merrors\u001b[0m\u001b[0;34m,\u001b[0m\u001b[0;34m\u001b[0m\u001b[0;34m\u001b[0m\u001b[0m\n\u001b[0m\u001b[1;32m   4914\u001b[0m         )\n\u001b[1;32m   4915\u001b[0m \u001b[0;34m\u001b[0m\u001b[0m\n",
            "\u001b[0;32m/usr/local/lib/python3.7/dist-packages/pandas/core/generic.py\u001b[0m in \u001b[0;36mdrop\u001b[0;34m(self, labels, axis, index, columns, level, inplace, errors)\u001b[0m\n\u001b[1;32m   4148\u001b[0m         \u001b[0;32mfor\u001b[0m \u001b[0maxis\u001b[0m\u001b[0;34m,\u001b[0m \u001b[0mlabels\u001b[0m \u001b[0;32min\u001b[0m \u001b[0maxes\u001b[0m\u001b[0;34m.\u001b[0m\u001b[0mitems\u001b[0m\u001b[0;34m(\u001b[0m\u001b[0;34m)\u001b[0m\u001b[0;34m:\u001b[0m\u001b[0;34m\u001b[0m\u001b[0;34m\u001b[0m\u001b[0m\n\u001b[1;32m   4149\u001b[0m             \u001b[0;32mif\u001b[0m \u001b[0mlabels\u001b[0m \u001b[0;32mis\u001b[0m \u001b[0;32mnot\u001b[0m \u001b[0;32mNone\u001b[0m\u001b[0;34m:\u001b[0m\u001b[0;34m\u001b[0m\u001b[0;34m\u001b[0m\u001b[0m\n\u001b[0;32m-> 4150\u001b[0;31m                 \u001b[0mobj\u001b[0m \u001b[0;34m=\u001b[0m \u001b[0mobj\u001b[0m\u001b[0;34m.\u001b[0m\u001b[0m_drop_axis\u001b[0m\u001b[0;34m(\u001b[0m\u001b[0mlabels\u001b[0m\u001b[0;34m,\u001b[0m \u001b[0maxis\u001b[0m\u001b[0;34m,\u001b[0m \u001b[0mlevel\u001b[0m\u001b[0;34m=\u001b[0m\u001b[0mlevel\u001b[0m\u001b[0;34m,\u001b[0m \u001b[0merrors\u001b[0m\u001b[0;34m=\u001b[0m\u001b[0merrors\u001b[0m\u001b[0;34m)\u001b[0m\u001b[0;34m\u001b[0m\u001b[0;34m\u001b[0m\u001b[0m\n\u001b[0m\u001b[1;32m   4151\u001b[0m \u001b[0;34m\u001b[0m\u001b[0m\n\u001b[1;32m   4152\u001b[0m         \u001b[0;32mif\u001b[0m \u001b[0minplace\u001b[0m\u001b[0;34m:\u001b[0m\u001b[0;34m\u001b[0m\u001b[0;34m\u001b[0m\u001b[0m\n",
            "\u001b[0;32m/usr/local/lib/python3.7/dist-packages/pandas/core/generic.py\u001b[0m in \u001b[0;36m_drop_axis\u001b[0;34m(self, labels, axis, level, errors)\u001b[0m\n\u001b[1;32m   4183\u001b[0m                 \u001b[0mnew_axis\u001b[0m \u001b[0;34m=\u001b[0m \u001b[0maxis\u001b[0m\u001b[0;34m.\u001b[0m\u001b[0mdrop\u001b[0m\u001b[0;34m(\u001b[0m\u001b[0mlabels\u001b[0m\u001b[0;34m,\u001b[0m \u001b[0mlevel\u001b[0m\u001b[0;34m=\u001b[0m\u001b[0mlevel\u001b[0m\u001b[0;34m,\u001b[0m \u001b[0merrors\u001b[0m\u001b[0;34m=\u001b[0m\u001b[0merrors\u001b[0m\u001b[0;34m)\u001b[0m\u001b[0;34m\u001b[0m\u001b[0;34m\u001b[0m\u001b[0m\n\u001b[1;32m   4184\u001b[0m             \u001b[0;32melse\u001b[0m\u001b[0;34m:\u001b[0m\u001b[0;34m\u001b[0m\u001b[0;34m\u001b[0m\u001b[0m\n\u001b[0;32m-> 4185\u001b[0;31m                 \u001b[0mnew_axis\u001b[0m \u001b[0;34m=\u001b[0m \u001b[0maxis\u001b[0m\u001b[0;34m.\u001b[0m\u001b[0mdrop\u001b[0m\u001b[0;34m(\u001b[0m\u001b[0mlabels\u001b[0m\u001b[0;34m,\u001b[0m \u001b[0merrors\u001b[0m\u001b[0;34m=\u001b[0m\u001b[0merrors\u001b[0m\u001b[0;34m)\u001b[0m\u001b[0;34m\u001b[0m\u001b[0;34m\u001b[0m\u001b[0m\n\u001b[0m\u001b[1;32m   4186\u001b[0m             \u001b[0mresult\u001b[0m \u001b[0;34m=\u001b[0m \u001b[0mself\u001b[0m\u001b[0;34m.\u001b[0m\u001b[0mreindex\u001b[0m\u001b[0;34m(\u001b[0m\u001b[0;34m**\u001b[0m\u001b[0;34m{\u001b[0m\u001b[0maxis_name\u001b[0m\u001b[0;34m:\u001b[0m \u001b[0mnew_axis\u001b[0m\u001b[0;34m}\u001b[0m\u001b[0;34m)\u001b[0m\u001b[0;34m\u001b[0m\u001b[0;34m\u001b[0m\u001b[0m\n\u001b[1;32m   4187\u001b[0m \u001b[0;34m\u001b[0m\u001b[0m\n",
            "\u001b[0;32m/usr/local/lib/python3.7/dist-packages/pandas/core/indexes/base.py\u001b[0m in \u001b[0;36mdrop\u001b[0;34m(self, labels, errors)\u001b[0m\n\u001b[1;32m   6015\u001b[0m         \u001b[0;32mif\u001b[0m \u001b[0mmask\u001b[0m\u001b[0;34m.\u001b[0m\u001b[0many\u001b[0m\u001b[0;34m(\u001b[0m\u001b[0;34m)\u001b[0m\u001b[0;34m:\u001b[0m\u001b[0;34m\u001b[0m\u001b[0;34m\u001b[0m\u001b[0m\n\u001b[1;32m   6016\u001b[0m             \u001b[0;32mif\u001b[0m \u001b[0merrors\u001b[0m \u001b[0;34m!=\u001b[0m \u001b[0;34m\"ignore\"\u001b[0m\u001b[0;34m:\u001b[0m\u001b[0;34m\u001b[0m\u001b[0;34m\u001b[0m\u001b[0m\n\u001b[0;32m-> 6017\u001b[0;31m                 \u001b[0;32mraise\u001b[0m \u001b[0mKeyError\u001b[0m\u001b[0;34m(\u001b[0m\u001b[0;34mf\"{labels[mask]} not found in axis\"\u001b[0m\u001b[0;34m)\u001b[0m\u001b[0;34m\u001b[0m\u001b[0;34m\u001b[0m\u001b[0m\n\u001b[0m\u001b[1;32m   6018\u001b[0m             \u001b[0mindexer\u001b[0m \u001b[0;34m=\u001b[0m \u001b[0mindexer\u001b[0m\u001b[0;34m[\u001b[0m\u001b[0;34m~\u001b[0m\u001b[0mmask\u001b[0m\u001b[0;34m]\u001b[0m\u001b[0;34m\u001b[0m\u001b[0;34m\u001b[0m\u001b[0m\n\u001b[1;32m   6019\u001b[0m         \u001b[0;32mreturn\u001b[0m \u001b[0mself\u001b[0m\u001b[0;34m.\u001b[0m\u001b[0mdelete\u001b[0m\u001b[0;34m(\u001b[0m\u001b[0mindexer\u001b[0m\u001b[0;34m)\u001b[0m\u001b[0;34m\u001b[0m\u001b[0;34m\u001b[0m\u001b[0m\n",
            "\u001b[0;31mKeyError\u001b[0m: \"['ClientKeywords' 'Year' 'Day'] not found in axis\""
          ]
        }
      ]
    },
    {
      "cell_type": "code",
      "source": [
        "data=data.drop('Month',axis=1)"
      ],
      "metadata": {
        "id": "sOLu5a8zk2FY"
      },
      "execution_count": null,
      "outputs": []
    },
    {
      "cell_type": "code",
      "source": [
        "data.to_csv('ValueInc_Cleaned.csv',index=False)"
      ],
      "metadata": {
        "id": "F5Cmb4gZk2KJ"
      },
      "execution_count": null,
      "outputs": []
    },
    {
      "cell_type": "code",
      "source": [
        "pd.read_csv('/content/drive/MyDrive/sales project data/ValueInc_Cleaned.csv')"
      ],
      "metadata": {
        "colab": {
          "base_uri": "https://localhost:8080/",
          "height": 835
        },
        "id": "Oa7Id0EIk2OX",
        "outputId": "d1066a50-71a4-485e-c0ca-0099ae7e1a5c"
      },
      "execution_count": null,
      "outputs": [
        {
          "output_type": "execute_result",
          "data": {
            "text/plain": [
              "         UserId  TransactionId      Time  ItemCode  \\\n",
              "0        278166        6355745  12:50:00    465549   \n",
              "1        267099        6385599  09:45:00    490728   \n",
              "2        328440        6387425  10:35:00    494802   \n",
              "3        364791        6358242  09:25:00    486276   \n",
              "4            -1        6388019  13:24:00    490329   \n",
              "...         ...            ...       ...       ...   \n",
              "1047583  315651        5999719  10:46:00    480018   \n",
              "1047584  300909        6010158  08:17:00    435771   \n",
              "1047585  277830        6000060  13:33:00    477162   \n",
              "1047586      -1        6015801  14:18:00    476637   \n",
              "1047587      -1        6015856  14:24:00    484071   \n",
              "\n",
              "                             ItemDescription  NumberOfItemsPurchased  \\\n",
              "0           family album white picture frame                       6   \n",
              "1          set 12 colour pencils dolly girl                       72   \n",
              "2        set of 6 ribbons perfectly pretty                        36   \n",
              "3              set of 5 mini grocery magnets                       3   \n",
              "4                roll wrap vintage christmas                      30   \n",
              "...                                      ...                     ...   \n",
              "1047583                  easter tin keepsake                       6   \n",
              "1047584     funky washing up gloves assorted                      36   \n",
              "1047585    set of 6 spice tins pantry design                       6   \n",
              "1047586      green regency teacup and saucer                       3   \n",
              "1047587           recycled acapulco mat blue                       3   \n",
              "\n",
              "         CostPerItem  SellingPricePerItem         Country  CostPerTransction  \\\n",
              "0              11.73                21.11  United Kingdom              70.38   \n",
              "1               0.90                 1.62          France              64.80   \n",
              "2               3.99                 5.59  United Kingdom             143.64   \n",
              "3               2.88                 3.74  United Kingdom               8.64   \n",
              "4               3.40                 4.42  United Kingdom             102.00   \n",
              "...              ...                  ...             ...                ...   \n",
              "1047583         2.28                 3.88  United Kingdom              13.68   \n",
              "1047584         2.90                 5.22  United Kingdom             104.40   \n",
              "1047585         5.46                 7.10  United Kingdom              32.76   \n",
              "1047586         8.00                10.40  United Kingdom              24.00   \n",
              "1047587        22.95                41.31  United Kingdom              68.85   \n",
              "\n",
              "         SalesPertransctions  ProfitPerTransaction  Markup         date  \\\n",
              "0                     126.66                 56.28     0.8   2-Feb-2019   \n",
              "1                     116.64                 51.84     0.8  15-Feb-2019   \n",
              "2                     201.24                 57.60     0.4  16-Feb-2019   \n",
              "3                      11.22                  2.58     0.3   3-Feb-2019   \n",
              "4                     132.60                 30.60     0.3  16-Feb-2019   \n",
              "...                      ...                   ...     ...          ...   \n",
              "1047583                23.28                  9.60     0.7  14-May-2018   \n",
              "1047584               187.92                 83.52     0.8  23-May-2018   \n",
              "1047585                42.60                  9.84     0.3  14-May-2018   \n",
              "1047586                31.20                  7.20     0.3  29-May-2018   \n",
              "1047587               123.93                 55.08     0.8  29-May-2018   \n",
              "\n",
              "            Client_Age           Client_Type     Contract_Length Season  \n",
              "0             'Senior'   'Solo Entrepreneur'   '2-5 Year Client'    Mid  \n",
              "1         'Middle Age'         'Corporation'   '2-5 Year Client'    Mid  \n",
              "2              'Adult'      'Small Business'        'New Client'    Mid  \n",
              "3        'Young Adult'      'Small Business'      'Loyal Client'    Mid  \n",
              "4         'Middle Age'   'Solo Entrepreneur'   '2-5 Year Client'    Mid  \n",
              "...                ...                   ...                 ...    ...  \n",
              "1047583   'Middle Age'         'Corporation'   '2-5 Year Client'    Low  \n",
              "1047584  'Young Adult'         'Corporation'        'New Client'    Low  \n",
              "1047585  'Young Adult'      'Small Business'   '2-5 Year Client'    Low  \n",
              "1047586   'Middle Age'   'Solo Entrepreneur'   '2-5 Year Client'    Low  \n",
              "1047587   'Middle Age'   'Solo Entrepreneur'   '2-5 Year Client'    Low  \n",
              "\n",
              "[1047588 rows x 18 columns]"
            ],
            "text/html": [
              "\n",
              "  <div id=\"df-284951a7-0399-4b5d-8706-ca81dd64d6ab\">\n",
              "    <div class=\"colab-df-container\">\n",
              "      <div>\n",
              "<style scoped>\n",
              "    .dataframe tbody tr th:only-of-type {\n",
              "        vertical-align: middle;\n",
              "    }\n",
              "\n",
              "    .dataframe tbody tr th {\n",
              "        vertical-align: top;\n",
              "    }\n",
              "\n",
              "    .dataframe thead th {\n",
              "        text-align: right;\n",
              "    }\n",
              "</style>\n",
              "<table border=\"1\" class=\"dataframe\">\n",
              "  <thead>\n",
              "    <tr style=\"text-align: right;\">\n",
              "      <th></th>\n",
              "      <th>UserId</th>\n",
              "      <th>TransactionId</th>\n",
              "      <th>Time</th>\n",
              "      <th>ItemCode</th>\n",
              "      <th>ItemDescription</th>\n",
              "      <th>NumberOfItemsPurchased</th>\n",
              "      <th>CostPerItem</th>\n",
              "      <th>SellingPricePerItem</th>\n",
              "      <th>Country</th>\n",
              "      <th>CostPerTransction</th>\n",
              "      <th>SalesPertransctions</th>\n",
              "      <th>ProfitPerTransaction</th>\n",
              "      <th>Markup</th>\n",
              "      <th>date</th>\n",
              "      <th>Client_Age</th>\n",
              "      <th>Client_Type</th>\n",
              "      <th>Contract_Length</th>\n",
              "      <th>Season</th>\n",
              "    </tr>\n",
              "  </thead>\n",
              "  <tbody>\n",
              "    <tr>\n",
              "      <th>0</th>\n",
              "      <td>278166</td>\n",
              "      <td>6355745</td>\n",
              "      <td>12:50:00</td>\n",
              "      <td>465549</td>\n",
              "      <td>family album white picture frame</td>\n",
              "      <td>6</td>\n",
              "      <td>11.73</td>\n",
              "      <td>21.11</td>\n",
              "      <td>United Kingdom</td>\n",
              "      <td>70.38</td>\n",
              "      <td>126.66</td>\n",
              "      <td>56.28</td>\n",
              "      <td>0.8</td>\n",
              "      <td>2-Feb-2019</td>\n",
              "      <td>'Senior'</td>\n",
              "      <td>'Solo Entrepreneur'</td>\n",
              "      <td>'2-5 Year Client'</td>\n",
              "      <td>Mid</td>\n",
              "    </tr>\n",
              "    <tr>\n",
              "      <th>1</th>\n",
              "      <td>267099</td>\n",
              "      <td>6385599</td>\n",
              "      <td>09:45:00</td>\n",
              "      <td>490728</td>\n",
              "      <td>set 12 colour pencils dolly girl</td>\n",
              "      <td>72</td>\n",
              "      <td>0.90</td>\n",
              "      <td>1.62</td>\n",
              "      <td>France</td>\n",
              "      <td>64.80</td>\n",
              "      <td>116.64</td>\n",
              "      <td>51.84</td>\n",
              "      <td>0.8</td>\n",
              "      <td>15-Feb-2019</td>\n",
              "      <td>'Middle Age'</td>\n",
              "      <td>'Corporation'</td>\n",
              "      <td>'2-5 Year Client'</td>\n",
              "      <td>Mid</td>\n",
              "    </tr>\n",
              "    <tr>\n",
              "      <th>2</th>\n",
              "      <td>328440</td>\n",
              "      <td>6387425</td>\n",
              "      <td>10:35:00</td>\n",
              "      <td>494802</td>\n",
              "      <td>set of 6 ribbons perfectly pretty</td>\n",
              "      <td>36</td>\n",
              "      <td>3.99</td>\n",
              "      <td>5.59</td>\n",
              "      <td>United Kingdom</td>\n",
              "      <td>143.64</td>\n",
              "      <td>201.24</td>\n",
              "      <td>57.60</td>\n",
              "      <td>0.4</td>\n",
              "      <td>16-Feb-2019</td>\n",
              "      <td>'Adult'</td>\n",
              "      <td>'Small Business'</td>\n",
              "      <td>'New Client'</td>\n",
              "      <td>Mid</td>\n",
              "    </tr>\n",
              "    <tr>\n",
              "      <th>3</th>\n",
              "      <td>364791</td>\n",
              "      <td>6358242</td>\n",
              "      <td>09:25:00</td>\n",
              "      <td>486276</td>\n",
              "      <td>set of 5 mini grocery magnets</td>\n",
              "      <td>3</td>\n",
              "      <td>2.88</td>\n",
              "      <td>3.74</td>\n",
              "      <td>United Kingdom</td>\n",
              "      <td>8.64</td>\n",
              "      <td>11.22</td>\n",
              "      <td>2.58</td>\n",
              "      <td>0.3</td>\n",
              "      <td>3-Feb-2019</td>\n",
              "      <td>'Young Adult'</td>\n",
              "      <td>'Small Business'</td>\n",
              "      <td>'Loyal Client'</td>\n",
              "      <td>Mid</td>\n",
              "    </tr>\n",
              "    <tr>\n",
              "      <th>4</th>\n",
              "      <td>-1</td>\n",
              "      <td>6388019</td>\n",
              "      <td>13:24:00</td>\n",
              "      <td>490329</td>\n",
              "      <td>roll wrap vintage christmas</td>\n",
              "      <td>30</td>\n",
              "      <td>3.40</td>\n",
              "      <td>4.42</td>\n",
              "      <td>United Kingdom</td>\n",
              "      <td>102.00</td>\n",
              "      <td>132.60</td>\n",
              "      <td>30.60</td>\n",
              "      <td>0.3</td>\n",
              "      <td>16-Feb-2019</td>\n",
              "      <td>'Middle Age'</td>\n",
              "      <td>'Solo Entrepreneur'</td>\n",
              "      <td>'2-5 Year Client'</td>\n",
              "      <td>Mid</td>\n",
              "    </tr>\n",
              "    <tr>\n",
              "      <th>...</th>\n",
              "      <td>...</td>\n",
              "      <td>...</td>\n",
              "      <td>...</td>\n",
              "      <td>...</td>\n",
              "      <td>...</td>\n",
              "      <td>...</td>\n",
              "      <td>...</td>\n",
              "      <td>...</td>\n",
              "      <td>...</td>\n",
              "      <td>...</td>\n",
              "      <td>...</td>\n",
              "      <td>...</td>\n",
              "      <td>...</td>\n",
              "      <td>...</td>\n",
              "      <td>...</td>\n",
              "      <td>...</td>\n",
              "      <td>...</td>\n",
              "      <td>...</td>\n",
              "    </tr>\n",
              "    <tr>\n",
              "      <th>1047583</th>\n",
              "      <td>315651</td>\n",
              "      <td>5999719</td>\n",
              "      <td>10:46:00</td>\n",
              "      <td>480018</td>\n",
              "      <td>easter tin keepsake</td>\n",
              "      <td>6</td>\n",
              "      <td>2.28</td>\n",
              "      <td>3.88</td>\n",
              "      <td>United Kingdom</td>\n",
              "      <td>13.68</td>\n",
              "      <td>23.28</td>\n",
              "      <td>9.60</td>\n",
              "      <td>0.7</td>\n",
              "      <td>14-May-2018</td>\n",
              "      <td>'Middle Age'</td>\n",
              "      <td>'Corporation'</td>\n",
              "      <td>'2-5 Year Client'</td>\n",
              "      <td>Low</td>\n",
              "    </tr>\n",
              "    <tr>\n",
              "      <th>1047584</th>\n",
              "      <td>300909</td>\n",
              "      <td>6010158</td>\n",
              "      <td>08:17:00</td>\n",
              "      <td>435771</td>\n",
              "      <td>funky washing up gloves assorted</td>\n",
              "      <td>36</td>\n",
              "      <td>2.90</td>\n",
              "      <td>5.22</td>\n",
              "      <td>United Kingdom</td>\n",
              "      <td>104.40</td>\n",
              "      <td>187.92</td>\n",
              "      <td>83.52</td>\n",
              "      <td>0.8</td>\n",
              "      <td>23-May-2018</td>\n",
              "      <td>'Young Adult'</td>\n",
              "      <td>'Corporation'</td>\n",
              "      <td>'New Client'</td>\n",
              "      <td>Low</td>\n",
              "    </tr>\n",
              "    <tr>\n",
              "      <th>1047585</th>\n",
              "      <td>277830</td>\n",
              "      <td>6000060</td>\n",
              "      <td>13:33:00</td>\n",
              "      <td>477162</td>\n",
              "      <td>set of 6 spice tins pantry design</td>\n",
              "      <td>6</td>\n",
              "      <td>5.46</td>\n",
              "      <td>7.10</td>\n",
              "      <td>United Kingdom</td>\n",
              "      <td>32.76</td>\n",
              "      <td>42.60</td>\n",
              "      <td>9.84</td>\n",
              "      <td>0.3</td>\n",
              "      <td>14-May-2018</td>\n",
              "      <td>'Young Adult'</td>\n",
              "      <td>'Small Business'</td>\n",
              "      <td>'2-5 Year Client'</td>\n",
              "      <td>Low</td>\n",
              "    </tr>\n",
              "    <tr>\n",
              "      <th>1047586</th>\n",
              "      <td>-1</td>\n",
              "      <td>6015801</td>\n",
              "      <td>14:18:00</td>\n",
              "      <td>476637</td>\n",
              "      <td>green regency teacup and saucer</td>\n",
              "      <td>3</td>\n",
              "      <td>8.00</td>\n",
              "      <td>10.40</td>\n",
              "      <td>United Kingdom</td>\n",
              "      <td>24.00</td>\n",
              "      <td>31.20</td>\n",
              "      <td>7.20</td>\n",
              "      <td>0.3</td>\n",
              "      <td>29-May-2018</td>\n",
              "      <td>'Middle Age'</td>\n",
              "      <td>'Solo Entrepreneur'</td>\n",
              "      <td>'2-5 Year Client'</td>\n",
              "      <td>Low</td>\n",
              "    </tr>\n",
              "    <tr>\n",
              "      <th>1047587</th>\n",
              "      <td>-1</td>\n",
              "      <td>6015856</td>\n",
              "      <td>14:24:00</td>\n",
              "      <td>484071</td>\n",
              "      <td>recycled acapulco mat blue</td>\n",
              "      <td>3</td>\n",
              "      <td>22.95</td>\n",
              "      <td>41.31</td>\n",
              "      <td>United Kingdom</td>\n",
              "      <td>68.85</td>\n",
              "      <td>123.93</td>\n",
              "      <td>55.08</td>\n",
              "      <td>0.8</td>\n",
              "      <td>29-May-2018</td>\n",
              "      <td>'Middle Age'</td>\n",
              "      <td>'Solo Entrepreneur'</td>\n",
              "      <td>'2-5 Year Client'</td>\n",
              "      <td>Low</td>\n",
              "    </tr>\n",
              "  </tbody>\n",
              "</table>\n",
              "<p>1047588 rows × 18 columns</p>\n",
              "</div>\n",
              "      <button class=\"colab-df-convert\" onclick=\"convertToInteractive('df-284951a7-0399-4b5d-8706-ca81dd64d6ab')\"\n",
              "              title=\"Convert this dataframe to an interactive table.\"\n",
              "              style=\"display:none;\">\n",
              "        \n",
              "  <svg xmlns=\"http://www.w3.org/2000/svg\" height=\"24px\"viewBox=\"0 0 24 24\"\n",
              "       width=\"24px\">\n",
              "    <path d=\"M0 0h24v24H0V0z\" fill=\"none\"/>\n",
              "    <path d=\"M18.56 5.44l.94 2.06.94-2.06 2.06-.94-2.06-.94-.94-2.06-.94 2.06-2.06.94zm-11 1L8.5 8.5l.94-2.06 2.06-.94-2.06-.94L8.5 2.5l-.94 2.06-2.06.94zm10 10l.94 2.06.94-2.06 2.06-.94-2.06-.94-.94-2.06-.94 2.06-2.06.94z\"/><path d=\"M17.41 7.96l-1.37-1.37c-.4-.4-.92-.59-1.43-.59-.52 0-1.04.2-1.43.59L10.3 9.45l-7.72 7.72c-.78.78-.78 2.05 0 2.83L4 21.41c.39.39.9.59 1.41.59.51 0 1.02-.2 1.41-.59l7.78-7.78 2.81-2.81c.8-.78.8-2.07 0-2.86zM5.41 20L4 18.59l7.72-7.72 1.47 1.35L5.41 20z\"/>\n",
              "  </svg>\n",
              "      </button>\n",
              "      \n",
              "  <style>\n",
              "    .colab-df-container {\n",
              "      display:flex;\n",
              "      flex-wrap:wrap;\n",
              "      gap: 12px;\n",
              "    }\n",
              "\n",
              "    .colab-df-convert {\n",
              "      background-color: #E8F0FE;\n",
              "      border: none;\n",
              "      border-radius: 50%;\n",
              "      cursor: pointer;\n",
              "      display: none;\n",
              "      fill: #1967D2;\n",
              "      height: 32px;\n",
              "      padding: 0 0 0 0;\n",
              "      width: 32px;\n",
              "    }\n",
              "\n",
              "    .colab-df-convert:hover {\n",
              "      background-color: #E2EBFA;\n",
              "      box-shadow: 0px 1px 2px rgba(60, 64, 67, 0.3), 0px 1px 3px 1px rgba(60, 64, 67, 0.15);\n",
              "      fill: #174EA6;\n",
              "    }\n",
              "\n",
              "    [theme=dark] .colab-df-convert {\n",
              "      background-color: #3B4455;\n",
              "      fill: #D2E3FC;\n",
              "    }\n",
              "\n",
              "    [theme=dark] .colab-df-convert:hover {\n",
              "      background-color: #434B5C;\n",
              "      box-shadow: 0px 1px 3px 1px rgba(0, 0, 0, 0.15);\n",
              "      filter: drop-shadow(0px 1px 2px rgba(0, 0, 0, 0.3));\n",
              "      fill: #FFFFFF;\n",
              "    }\n",
              "  </style>\n",
              "\n",
              "      <script>\n",
              "        const buttonEl =\n",
              "          document.querySelector('#df-284951a7-0399-4b5d-8706-ca81dd64d6ab button.colab-df-convert');\n",
              "        buttonEl.style.display =\n",
              "          google.colab.kernel.accessAllowed ? 'block' : 'none';\n",
              "\n",
              "        async function convertToInteractive(key) {\n",
              "          const element = document.querySelector('#df-284951a7-0399-4b5d-8706-ca81dd64d6ab');\n",
              "          const dataTable =\n",
              "            await google.colab.kernel.invokeFunction('convertToInteractive',\n",
              "                                                     [key], {});\n",
              "          if (!dataTable) return;\n",
              "\n",
              "          const docLinkHtml = 'Like what you see? Visit the ' +\n",
              "            '<a target=\"_blank\" href=https://colab.research.google.com/notebooks/data_table.ipynb>data table notebook</a>'\n",
              "            + ' to learn more about interactive tables.';\n",
              "          element.innerHTML = '';\n",
              "          dataTable['output_type'] = 'display_data';\n",
              "          await google.colab.output.renderOutput(dataTable, element);\n",
              "          const docLink = document.createElement('div');\n",
              "          docLink.innerHTML = docLinkHtml;\n",
              "          element.appendChild(docLink);\n",
              "        }\n",
              "      </script>\n",
              "    </div>\n",
              "  </div>\n",
              "  "
            ]
          },
          "metadata": {},
          "execution_count": 144
        }
      ]
    },
    {
      "cell_type": "code",
      "source": [],
      "metadata": {
        "id": "NBAIyyfok2nq"
      },
      "execution_count": null,
      "outputs": []
    },
    {
      "cell_type": "code",
      "source": [],
      "metadata": {
        "id": "m3kFIqpwk2pr"
      },
      "execution_count": null,
      "outputs": []
    },
    {
      "cell_type": "code",
      "source": [],
      "metadata": {
        "id": "gQlfzNZVk2r-"
      },
      "execution_count": null,
      "outputs": []
    },
    {
      "cell_type": "code",
      "source": [],
      "metadata": {
        "id": "ln9RZU7mk2vX"
      },
      "execution_count": null,
      "outputs": []
    }
  ]
}